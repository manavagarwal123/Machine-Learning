{
 "cells": [
  {
   "cell_type": "code",
   "execution_count": 1,
   "id": "7d421a4f",
   "metadata": {
    "execution": {
     "iopub.execute_input": "2025-04-16T11:51:33.685483Z",
     "iopub.status.busy": "2025-04-16T11:51:33.685173Z",
     "iopub.status.idle": "2025-04-16T11:51:35.619152Z",
     "shell.execute_reply": "2025-04-16T11:51:35.618072Z"
    },
    "papermill": {
     "duration": 1.942702,
     "end_time": "2025-04-16T11:51:35.621016",
     "exception": false,
     "start_time": "2025-04-16T11:51:33.678314",
     "status": "completed"
    },
    "tags": []
   },
   "outputs": [],
   "source": [
    "import pandas as pd\n",
    "import numpy as np\n",
    "import matplotlib.pyplot as plt"
   ]
  },
  {
   "cell_type": "code",
   "execution_count": 2,
   "id": "b60b0b76",
   "metadata": {
    "execution": {
     "iopub.execute_input": "2025-04-16T11:51:35.631859Z",
     "iopub.status.busy": "2025-04-16T11:51:35.631415Z",
     "iopub.status.idle": "2025-04-16T11:51:39.177265Z",
     "shell.execute_reply": "2025-04-16T11:51:39.176301Z"
    },
    "papermill": {
     "duration": 3.552971,
     "end_time": "2025-04-16T11:51:39.178855",
     "exception": false,
     "start_time": "2025-04-16T11:51:35.625884",
     "status": "completed"
    },
    "tags": []
   },
   "outputs": [],
   "source": [
    "df = pd.read_csv('/kaggle/input/house-price/house_prices.csv')"
   ]
  },
  {
   "cell_type": "code",
   "execution_count": 3,
   "id": "7e46150c",
   "metadata": {
    "execution": {
     "iopub.execute_input": "2025-04-16T11:51:39.189657Z",
     "iopub.status.busy": "2025-04-16T11:51:39.189243Z",
     "iopub.status.idle": "2025-04-16T11:51:39.350186Z",
     "shell.execute_reply": "2025-04-16T11:51:39.349324Z"
    },
    "papermill": {
     "duration": 0.168146,
     "end_time": "2025-04-16T11:51:39.351556",
     "exception": false,
     "start_time": "2025-04-16T11:51:39.183410",
     "status": "completed"
    },
    "tags": []
   },
   "outputs": [
    {
     "name": "stderr",
     "output_type": "stream",
     "text": [
      "/usr/local/lib/python3.11/dist-packages/pandas/io/formats/format.py:1458: RuntimeWarning: invalid value encountered in greater\n",
      "  has_large_values = (abs_vals > 1e6).any()\n",
      "/usr/local/lib/python3.11/dist-packages/pandas/io/formats/format.py:1459: RuntimeWarning: invalid value encountered in less\n",
      "  has_small_values = ((abs_vals < 10 ** (-self.digits)) & (abs_vals > 0)).any()\n",
      "/usr/local/lib/python3.11/dist-packages/pandas/io/formats/format.py:1459: RuntimeWarning: invalid value encountered in greater\n",
      "  has_small_values = ((abs_vals < 10 ** (-self.digits)) & (abs_vals > 0)).any()\n",
      "/usr/local/lib/python3.11/dist-packages/pandas/io/formats/format.py:1458: RuntimeWarning: invalid value encountered in greater\n",
      "  has_large_values = (abs_vals > 1e6).any()\n",
      "/usr/local/lib/python3.11/dist-packages/pandas/io/formats/format.py:1459: RuntimeWarning: invalid value encountered in less\n",
      "  has_small_values = ((abs_vals < 10 ** (-self.digits)) & (abs_vals > 0)).any()\n",
      "/usr/local/lib/python3.11/dist-packages/pandas/io/formats/format.py:1459: RuntimeWarning: invalid value encountered in greater\n",
      "  has_small_values = ((abs_vals < 10 ** (-self.digits)) & (abs_vals > 0)).any()\n"
     ]
    },
    {
     "data": {
      "text/html": [
       "<div>\n",
       "<style scoped>\n",
       "    .dataframe tbody tr th:only-of-type {\n",
       "        vertical-align: middle;\n",
       "    }\n",
       "\n",
       "    .dataframe tbody tr th {\n",
       "        vertical-align: top;\n",
       "    }\n",
       "\n",
       "    .dataframe thead th {\n",
       "        text-align: right;\n",
       "    }\n",
       "</style>\n",
       "<table border=\"1\" class=\"dataframe\">\n",
       "  <thead>\n",
       "    <tr style=\"text-align: right;\">\n",
       "      <th></th>\n",
       "      <th>Index</th>\n",
       "      <th>Title</th>\n",
       "      <th>Description</th>\n",
       "      <th>Amount(in rupees)</th>\n",
       "      <th>Price (in rupees)</th>\n",
       "      <th>location</th>\n",
       "      <th>Carpet Area</th>\n",
       "      <th>Status</th>\n",
       "      <th>Floor</th>\n",
       "      <th>Transaction</th>\n",
       "      <th>...</th>\n",
       "      <th>facing</th>\n",
       "      <th>overlooking</th>\n",
       "      <th>Society</th>\n",
       "      <th>Bathroom</th>\n",
       "      <th>Balcony</th>\n",
       "      <th>Car Parking</th>\n",
       "      <th>Ownership</th>\n",
       "      <th>Super Area</th>\n",
       "      <th>Dimensions</th>\n",
       "      <th>Plot Area</th>\n",
       "    </tr>\n",
       "  </thead>\n",
       "  <tbody>\n",
       "    <tr>\n",
       "      <th>0</th>\n",
       "      <td>0</td>\n",
       "      <td>1 BHK Ready to Occupy Flat for sale in Srushti...</td>\n",
       "      <td>Bhiwandi, Thane has an attractive 1 BHK Flat f...</td>\n",
       "      <td>42 Lac</td>\n",
       "      <td>6000.0</td>\n",
       "      <td>thane</td>\n",
       "      <td>500 sqft</td>\n",
       "      <td>Ready to Move</td>\n",
       "      <td>10 out of 11</td>\n",
       "      <td>Resale</td>\n",
       "      <td>...</td>\n",
       "      <td>NaN</td>\n",
       "      <td>NaN</td>\n",
       "      <td>Srushti Siddhi Mangal Murti Complex</td>\n",
       "      <td>1</td>\n",
       "      <td>2</td>\n",
       "      <td>NaN</td>\n",
       "      <td>NaN</td>\n",
       "      <td>NaN</td>\n",
       "      <td>NaN</td>\n",
       "      <td>NaN</td>\n",
       "    </tr>\n",
       "    <tr>\n",
       "      <th>1</th>\n",
       "      <td>1</td>\n",
       "      <td>2 BHK Ready to Occupy Flat for sale in Dosti V...</td>\n",
       "      <td>One can find this stunning 2 BHK flat for sale...</td>\n",
       "      <td>98 Lac</td>\n",
       "      <td>13799.0</td>\n",
       "      <td>thane</td>\n",
       "      <td>473 sqft</td>\n",
       "      <td>Ready to Move</td>\n",
       "      <td>3 out of 22</td>\n",
       "      <td>Resale</td>\n",
       "      <td>...</td>\n",
       "      <td>East</td>\n",
       "      <td>Garden/Park</td>\n",
       "      <td>Dosti Vihar</td>\n",
       "      <td>2</td>\n",
       "      <td>NaN</td>\n",
       "      <td>1 Open</td>\n",
       "      <td>Freehold</td>\n",
       "      <td>NaN</td>\n",
       "      <td>NaN</td>\n",
       "      <td>NaN</td>\n",
       "    </tr>\n",
       "    <tr>\n",
       "      <th>2</th>\n",
       "      <td>2</td>\n",
       "      <td>2 BHK Ready to Occupy Flat for sale in Sunrise...</td>\n",
       "      <td>Up for immediate sale is a 2 BHK apartment in ...</td>\n",
       "      <td>1.40 Cr</td>\n",
       "      <td>17500.0</td>\n",
       "      <td>thane</td>\n",
       "      <td>779 sqft</td>\n",
       "      <td>Ready to Move</td>\n",
       "      <td>10 out of 29</td>\n",
       "      <td>Resale</td>\n",
       "      <td>...</td>\n",
       "      <td>East</td>\n",
       "      <td>Garden/Park</td>\n",
       "      <td>Sunrise by Kalpataru</td>\n",
       "      <td>2</td>\n",
       "      <td>NaN</td>\n",
       "      <td>1 Covered</td>\n",
       "      <td>Freehold</td>\n",
       "      <td>NaN</td>\n",
       "      <td>NaN</td>\n",
       "      <td>NaN</td>\n",
       "    </tr>\n",
       "    <tr>\n",
       "      <th>3</th>\n",
       "      <td>3</td>\n",
       "      <td>1 BHK Ready to Occupy Flat for sale Kasheli</td>\n",
       "      <td>This beautiful 1 BHK Flat is available for sal...</td>\n",
       "      <td>25 Lac</td>\n",
       "      <td>NaN</td>\n",
       "      <td>thane</td>\n",
       "      <td>530 sqft</td>\n",
       "      <td>Ready to Move</td>\n",
       "      <td>1 out of 3</td>\n",
       "      <td>Resale</td>\n",
       "      <td>...</td>\n",
       "      <td>NaN</td>\n",
       "      <td>NaN</td>\n",
       "      <td>NaN</td>\n",
       "      <td>1</td>\n",
       "      <td>1</td>\n",
       "      <td>NaN</td>\n",
       "      <td>NaN</td>\n",
       "      <td>NaN</td>\n",
       "      <td>NaN</td>\n",
       "      <td>NaN</td>\n",
       "    </tr>\n",
       "    <tr>\n",
       "      <th>4</th>\n",
       "      <td>4</td>\n",
       "      <td>2 BHK Ready to Occupy Flat for sale in TenX Ha...</td>\n",
       "      <td>This lovely 2 BHK Flat in Pokhran Road, Thane ...</td>\n",
       "      <td>1.60 Cr</td>\n",
       "      <td>18824.0</td>\n",
       "      <td>thane</td>\n",
       "      <td>635 sqft</td>\n",
       "      <td>Ready to Move</td>\n",
       "      <td>20 out of 42</td>\n",
       "      <td>Resale</td>\n",
       "      <td>...</td>\n",
       "      <td>West</td>\n",
       "      <td>Garden/Park, Main Road</td>\n",
       "      <td>TenX Habitat Raymond Realty</td>\n",
       "      <td>2</td>\n",
       "      <td>NaN</td>\n",
       "      <td>1 Covered</td>\n",
       "      <td>Co-operative Society</td>\n",
       "      <td>NaN</td>\n",
       "      <td>NaN</td>\n",
       "      <td>NaN</td>\n",
       "    </tr>\n",
       "    <tr>\n",
       "      <th>...</th>\n",
       "      <td>...</td>\n",
       "      <td>...</td>\n",
       "      <td>...</td>\n",
       "      <td>...</td>\n",
       "      <td>...</td>\n",
       "      <td>...</td>\n",
       "      <td>...</td>\n",
       "      <td>...</td>\n",
       "      <td>...</td>\n",
       "      <td>...</td>\n",
       "      <td>...</td>\n",
       "      <td>...</td>\n",
       "      <td>...</td>\n",
       "      <td>...</td>\n",
       "      <td>...</td>\n",
       "      <td>...</td>\n",
       "      <td>...</td>\n",
       "      <td>...</td>\n",
       "      <td>...</td>\n",
       "      <td>...</td>\n",
       "      <td>...</td>\n",
       "    </tr>\n",
       "    <tr>\n",
       "      <th>187526</th>\n",
       "      <td>187526</td>\n",
       "      <td>3 BHK Ready to Occupy Flat for sale in Bollywo...</td>\n",
       "      <td>This magnificent 3 BHK Flat is available for s...</td>\n",
       "      <td>63 Lac</td>\n",
       "      <td>3225.0</td>\n",
       "      <td>zirakpur</td>\n",
       "      <td>NaN</td>\n",
       "      <td>Ready to Move</td>\n",
       "      <td>2 out of 4</td>\n",
       "      <td>New Property</td>\n",
       "      <td>...</td>\n",
       "      <td>East</td>\n",
       "      <td>Garden/Park</td>\n",
       "      <td>Bollywood Esencia</td>\n",
       "      <td>3</td>\n",
       "      <td>3</td>\n",
       "      <td>1 Covered</td>\n",
       "      <td>Freehold</td>\n",
       "      <td>1953 sqft</td>\n",
       "      <td>NaN</td>\n",
       "      <td>NaN</td>\n",
       "    </tr>\n",
       "    <tr>\n",
       "      <th>187527</th>\n",
       "      <td>187527</td>\n",
       "      <td>3 BHK Ready to Occupy Flat for sale in Sushma ...</td>\n",
       "      <td>Have a look at this immaculate 3 BHK flat for ...</td>\n",
       "      <td>55 Lac</td>\n",
       "      <td>3274.0</td>\n",
       "      <td>zirakpur</td>\n",
       "      <td>NaN</td>\n",
       "      <td>Ready to Move</td>\n",
       "      <td>4 out of 6</td>\n",
       "      <td>Resale</td>\n",
       "      <td>...</td>\n",
       "      <td>North - East</td>\n",
       "      <td>Garden/Park, Main Road</td>\n",
       "      <td>Sushma Urban Views</td>\n",
       "      <td>3</td>\n",
       "      <td>NaN</td>\n",
       "      <td>1 Covered</td>\n",
       "      <td>NaN</td>\n",
       "      <td>1680 sqft</td>\n",
       "      <td>NaN</td>\n",
       "      <td>NaN</td>\n",
       "    </tr>\n",
       "    <tr>\n",
       "      <th>187528</th>\n",
       "      <td>187528</td>\n",
       "      <td>3 BHK Ready to Occupy Flat for sale in Bollywo...</td>\n",
       "      <td>Gazipur, Zirakpur has an appealing 3 BHK flat ...</td>\n",
       "      <td>76 Lac</td>\n",
       "      <td>4343.0</td>\n",
       "      <td>zirakpur</td>\n",
       "      <td>1250 sqft</td>\n",
       "      <td>Ready to Move</td>\n",
       "      <td>1 out of 3</td>\n",
       "      <td>Resale</td>\n",
       "      <td>...</td>\n",
       "      <td>East</td>\n",
       "      <td>Garden/Park, Main Road</td>\n",
       "      <td>Bollywood Esencia</td>\n",
       "      <td>3</td>\n",
       "      <td>2</td>\n",
       "      <td>1 Covered,</td>\n",
       "      <td>Freehold</td>\n",
       "      <td>NaN</td>\n",
       "      <td>NaN</td>\n",
       "      <td>NaN</td>\n",
       "    </tr>\n",
       "    <tr>\n",
       "      <th>187529</th>\n",
       "      <td>187529</td>\n",
       "      <td>2 BHK Ready to Occupy Flat for sale in Friends...</td>\n",
       "      <td>Up for immediate sale is a 2 BHK apartment in ...</td>\n",
       "      <td>30 Lac</td>\n",
       "      <td>4231.0</td>\n",
       "      <td>zirakpur</td>\n",
       "      <td>NaN</td>\n",
       "      <td>Ready to Move</td>\n",
       "      <td>2 out of 2</td>\n",
       "      <td>Resale</td>\n",
       "      <td>...</td>\n",
       "      <td>NaN</td>\n",
       "      <td>Main Road</td>\n",
       "      <td>Friends Enclave</td>\n",
       "      <td>2</td>\n",
       "      <td>NaN</td>\n",
       "      <td>NaN</td>\n",
       "      <td>NaN</td>\n",
       "      <td>709 sqft</td>\n",
       "      <td>NaN</td>\n",
       "      <td>NaN</td>\n",
       "    </tr>\n",
       "    <tr>\n",
       "      <th>187530</th>\n",
       "      <td>187530</td>\n",
       "      <td>3 BHK Ready to Occupy Flat for sale in Affinit...</td>\n",
       "      <td>This exquisite 3 BHK Flat is offered for sale ...</td>\n",
       "      <td>1.18 Cr</td>\n",
       "      <td>6162.0</td>\n",
       "      <td>zirakpur</td>\n",
       "      <td>NaN</td>\n",
       "      <td>Ready to Move</td>\n",
       "      <td>5 out of 13</td>\n",
       "      <td>Resale</td>\n",
       "      <td>...</td>\n",
       "      <td>North - East</td>\n",
       "      <td>Garden/Park, Pool</td>\n",
       "      <td>Affinity Greens</td>\n",
       "      <td>4</td>\n",
       "      <td>4</td>\n",
       "      <td>1 Covered</td>\n",
       "      <td>Freehold</td>\n",
       "      <td>1915 sqft</td>\n",
       "      <td>NaN</td>\n",
       "      <td>NaN</td>\n",
       "    </tr>\n",
       "  </tbody>\n",
       "</table>\n",
       "<p>187531 rows × 21 columns</p>\n",
       "</div>"
      ],
      "text/plain": [
       "         Index                                              Title  \\\n",
       "0            0  1 BHK Ready to Occupy Flat for sale in Srushti...   \n",
       "1            1  2 BHK Ready to Occupy Flat for sale in Dosti V...   \n",
       "2            2  2 BHK Ready to Occupy Flat for sale in Sunrise...   \n",
       "3            3        1 BHK Ready to Occupy Flat for sale Kasheli   \n",
       "4            4  2 BHK Ready to Occupy Flat for sale in TenX Ha...   \n",
       "...        ...                                                ...   \n",
       "187526  187526  3 BHK Ready to Occupy Flat for sale in Bollywo...   \n",
       "187527  187527  3 BHK Ready to Occupy Flat for sale in Sushma ...   \n",
       "187528  187528  3 BHK Ready to Occupy Flat for sale in Bollywo...   \n",
       "187529  187529  2 BHK Ready to Occupy Flat for sale in Friends...   \n",
       "187530  187530  3 BHK Ready to Occupy Flat for sale in Affinit...   \n",
       "\n",
       "                                              Description Amount(in rupees)  \\\n",
       "0       Bhiwandi, Thane has an attractive 1 BHK Flat f...           42 Lac    \n",
       "1       One can find this stunning 2 BHK flat for sale...           98 Lac    \n",
       "2       Up for immediate sale is a 2 BHK apartment in ...          1.40 Cr    \n",
       "3       This beautiful 1 BHK Flat is available for sal...           25 Lac    \n",
       "4       This lovely 2 BHK Flat in Pokhran Road, Thane ...          1.60 Cr    \n",
       "...                                                   ...               ...   \n",
       "187526  This magnificent 3 BHK Flat is available for s...           63 Lac    \n",
       "187527  Have a look at this immaculate 3 BHK flat for ...           55 Lac    \n",
       "187528  Gazipur, Zirakpur has an appealing 3 BHK flat ...           76 Lac    \n",
       "187529  Up for immediate sale is a 2 BHK apartment in ...           30 Lac    \n",
       "187530  This exquisite 3 BHK Flat is offered for sale ...          1.18 Cr    \n",
       "\n",
       "        Price (in rupees)  location Carpet Area         Status         Floor  \\\n",
       "0                  6000.0     thane    500 sqft  Ready to Move  10 out of 11   \n",
       "1                 13799.0     thane    473 sqft  Ready to Move   3 out of 22   \n",
       "2                 17500.0     thane    779 sqft  Ready to Move  10 out of 29   \n",
       "3                     NaN     thane    530 sqft  Ready to Move    1 out of 3   \n",
       "4                 18824.0     thane    635 sqft  Ready to Move  20 out of 42   \n",
       "...                   ...       ...         ...            ...           ...   \n",
       "187526             3225.0  zirakpur         NaN  Ready to Move    2 out of 4   \n",
       "187527             3274.0  zirakpur         NaN  Ready to Move    4 out of 6   \n",
       "187528             4343.0  zirakpur   1250 sqft  Ready to Move    1 out of 3   \n",
       "187529             4231.0  zirakpur         NaN  Ready to Move    2 out of 2   \n",
       "187530             6162.0  zirakpur         NaN  Ready to Move   5 out of 13   \n",
       "\n",
       "         Transaction  ...        facing             overlooking  \\\n",
       "0             Resale  ...           NaN                     NaN   \n",
       "1             Resale  ...          East             Garden/Park   \n",
       "2             Resale  ...          East             Garden/Park   \n",
       "3             Resale  ...           NaN                     NaN   \n",
       "4             Resale  ...          West  Garden/Park, Main Road   \n",
       "...              ...  ...           ...                     ...   \n",
       "187526  New Property  ...          East             Garden/Park   \n",
       "187527        Resale  ...  North - East  Garden/Park, Main Road   \n",
       "187528        Resale  ...          East  Garden/Park, Main Road   \n",
       "187529        Resale  ...           NaN               Main Road   \n",
       "187530        Resale  ...  North - East       Garden/Park, Pool   \n",
       "\n",
       "                                    Society Bathroom Balcony Car Parking  \\\n",
       "0       Srushti Siddhi Mangal Murti Complex        1       2         NaN   \n",
       "1                               Dosti Vihar        2     NaN      1 Open   \n",
       "2                      Sunrise by Kalpataru        2     NaN   1 Covered   \n",
       "3                                       NaN        1       1         NaN   \n",
       "4               TenX Habitat Raymond Realty        2     NaN   1 Covered   \n",
       "...                                     ...      ...     ...         ...   \n",
       "187526                    Bollywood Esencia        3       3   1 Covered   \n",
       "187527                   Sushma Urban Views        3     NaN   1 Covered   \n",
       "187528                    Bollywood Esencia        3       2  1 Covered,   \n",
       "187529                      Friends Enclave        2     NaN         NaN   \n",
       "187530                      Affinity Greens        4       4   1 Covered   \n",
       "\n",
       "                   Ownership Super Area Dimensions  Plot Area  \n",
       "0                        NaN        NaN        NaN        NaN  \n",
       "1                   Freehold        NaN        NaN        NaN  \n",
       "2                   Freehold        NaN        NaN        NaN  \n",
       "3                        NaN        NaN        NaN        NaN  \n",
       "4       Co-operative Society        NaN        NaN        NaN  \n",
       "...                      ...        ...        ...        ...  \n",
       "187526              Freehold  1953 sqft        NaN        NaN  \n",
       "187527                   NaN  1680 sqft        NaN        NaN  \n",
       "187528              Freehold        NaN        NaN        NaN  \n",
       "187529                   NaN   709 sqft        NaN        NaN  \n",
       "187530              Freehold  1915 sqft        NaN        NaN  \n",
       "\n",
       "[187531 rows x 21 columns]"
      ]
     },
     "execution_count": 3,
     "metadata": {},
     "output_type": "execute_result"
    }
   ],
   "source": [
    "df"
   ]
  },
  {
   "cell_type": "code",
   "execution_count": 4,
   "id": "ed62a441",
   "metadata": {
    "execution": {
     "iopub.execute_input": "2025-04-16T11:51:39.362970Z",
     "iopub.status.busy": "2025-04-16T11:51:39.362643Z",
     "iopub.status.idle": "2025-04-16T11:51:39.531134Z",
     "shell.execute_reply": "2025-04-16T11:51:39.530153Z"
    },
    "papermill": {
     "duration": 0.175994,
     "end_time": "2025-04-16T11:51:39.532811",
     "exception": false,
     "start_time": "2025-04-16T11:51:39.356817",
     "status": "completed"
    },
    "tags": []
   },
   "outputs": [
    {
     "data": {
      "text/plain": [
       "Index                     0\n",
       "Title                     0\n",
       "Description            3023\n",
       "Amount(in rupees)         0\n",
       "Price (in rupees)     17665\n",
       "location                  0\n",
       "Carpet Area           80673\n",
       "Status                  615\n",
       "Floor                  7077\n",
       "Transaction              83\n",
       "Furnishing             2897\n",
       "facing                70233\n",
       "overlooking           81436\n",
       "Society              109678\n",
       "Bathroom                828\n",
       "Balcony               48935\n",
       "Car Parking          103357\n",
       "Ownership             65517\n",
       "Super Area           107685\n",
       "Dimensions           187531\n",
       "Plot Area            187531\n",
       "dtype: int64"
      ]
     },
     "execution_count": 4,
     "metadata": {},
     "output_type": "execute_result"
    }
   ],
   "source": [
    "df.isnull().sum()"
   ]
  },
  {
   "cell_type": "code",
   "execution_count": 5,
   "id": "38afcf4f",
   "metadata": {
    "execution": {
     "iopub.execute_input": "2025-04-16T11:51:39.544864Z",
     "iopub.status.busy": "2025-04-16T11:51:39.544521Z",
     "iopub.status.idle": "2025-04-16T11:51:39.557430Z",
     "shell.execute_reply": "2025-04-16T11:51:39.556532Z"
    },
    "papermill": {
     "duration": 0.020757,
     "end_time": "2025-04-16T11:51:39.559077",
     "exception": false,
     "start_time": "2025-04-16T11:51:39.538320",
     "status": "completed"
    },
    "tags": []
   },
   "outputs": [],
   "source": [
    "df = df.drop(columns = ['Title','Description','Carpet Area','Status','Floor','Transaction','Furnishing','facing',\n",
    "                  'overlooking','Society','Car Parking','Ownership','Super Area','Dimensions','Plot Area'])"
   ]
  },
  {
   "cell_type": "code",
   "execution_count": 6,
   "id": "9efa8ae2",
   "metadata": {
    "execution": {
     "iopub.execute_input": "2025-04-16T11:51:39.570467Z",
     "iopub.status.busy": "2025-04-16T11:51:39.570199Z",
     "iopub.status.idle": "2025-04-16T11:51:39.576180Z",
     "shell.execute_reply": "2025-04-16T11:51:39.575150Z"
    },
    "papermill": {
     "duration": 0.013314,
     "end_time": "2025-04-16T11:51:39.577596",
     "exception": false,
     "start_time": "2025-04-16T11:51:39.564282",
     "status": "completed"
    },
    "tags": []
   },
   "outputs": [
    {
     "data": {
      "text/plain": [
       "array(['Index', 'Amount(in rupees)', 'Price (in rupees)', 'location',\n",
       "       'Bathroom', 'Balcony'], dtype=object)"
      ]
     },
     "execution_count": 6,
     "metadata": {},
     "output_type": "execute_result"
    }
   ],
   "source": [
    "df.columns.values"
   ]
  },
  {
   "cell_type": "code",
   "execution_count": 7,
   "id": "bf9e79d2",
   "metadata": {
    "execution": {
     "iopub.execute_input": "2025-04-16T11:51:39.589110Z",
     "iopub.status.busy": "2025-04-16T11:51:39.588829Z",
     "iopub.status.idle": "2025-04-16T11:51:39.634849Z",
     "shell.execute_reply": "2025-04-16T11:51:39.633839Z"
    },
    "papermill": {
     "duration": 0.053752,
     "end_time": "2025-04-16T11:51:39.636579",
     "exception": false,
     "start_time": "2025-04-16T11:51:39.582827",
     "status": "completed"
    },
    "tags": []
   },
   "outputs": [
    {
     "data": {
      "text/plain": [
       "Index                    0\n",
       "Amount(in rupees)        0\n",
       "Price (in rupees)    17665\n",
       "location                 0\n",
       "Bathroom               828\n",
       "Balcony              48935\n",
       "dtype: int64"
      ]
     },
     "execution_count": 7,
     "metadata": {},
     "output_type": "execute_result"
    }
   ],
   "source": [
    "df.isnull().sum()"
   ]
  },
  {
   "cell_type": "code",
   "execution_count": 8,
   "id": "571f1abe",
   "metadata": {
    "execution": {
     "iopub.execute_input": "2025-04-16T11:51:39.649849Z",
     "iopub.status.busy": "2025-04-16T11:51:39.648878Z",
     "iopub.status.idle": "2025-04-16T11:51:39.656064Z",
     "shell.execute_reply": "2025-04-16T11:51:39.655131Z"
    },
    "papermill": {
     "duration": 0.015769,
     "end_time": "2025-04-16T11:51:39.657862",
     "exception": false,
     "start_time": "2025-04-16T11:51:39.642093",
     "status": "completed"
    },
    "tags": []
   },
   "outputs": [],
   "source": [
    "df['Price (in rupees)'] = df['Price (in rupees)'].mean()"
   ]
  },
  {
   "cell_type": "code",
   "execution_count": 9,
   "id": "44541e15",
   "metadata": {
    "execution": {
     "iopub.execute_input": "2025-04-16T11:51:39.670547Z",
     "iopub.status.busy": "2025-04-16T11:51:39.670236Z",
     "iopub.status.idle": "2025-04-16T11:51:39.677109Z",
     "shell.execute_reply": "2025-04-16T11:51:39.676131Z"
    },
    "papermill": {
     "duration": 0.015209,
     "end_time": "2025-04-16T11:51:39.678907",
     "exception": false,
     "start_time": "2025-04-16T11:51:39.663698",
     "status": "completed"
    },
    "tags": []
   },
   "outputs": [],
   "source": [
    "# replace or remove the missing value\n",
    "df['Price (in rupees)'] = df['Price (in rupees)'].fillna(df['Price (in rupees)'].mean())"
   ]
  },
  {
   "cell_type": "code",
   "execution_count": 10,
   "id": "592b984e",
   "metadata": {
    "execution": {
     "iopub.execute_input": "2025-04-16T11:51:39.691702Z",
     "iopub.status.busy": "2025-04-16T11:51:39.690808Z",
     "iopub.status.idle": "2025-04-16T11:51:39.696057Z",
     "shell.execute_reply": "2025-04-16T11:51:39.695104Z"
    },
    "papermill": {
     "duration": 0.013066,
     "end_time": "2025-04-16T11:51:39.697555",
     "exception": false,
     "start_time": "2025-04-16T11:51:39.684489",
     "status": "completed"
    },
    "tags": []
   },
   "outputs": [
    {
     "name": "stdout",
     "output_type": "stream",
     "text": [
      "object\n"
     ]
    }
   ],
   "source": [
    "# check for datatype if it contain non numeric check this \n",
    "print(df['Bathroom'].dtypes)"
   ]
  },
  {
   "cell_type": "markdown",
   "id": "4cefeefe",
   "metadata": {
    "papermill": {
     "duration": 0.005184,
     "end_time": "2025-04-16T11:51:39.708069",
     "exception": false,
     "start_time": "2025-04-16T11:51:39.702885",
     "status": "completed"
    },
    "tags": []
   },
   "source": [
    "****It contains non numeric value change into numeric value****"
   ]
  },
  {
   "cell_type": "code",
   "execution_count": 11,
   "id": "ea49a8f3",
   "metadata": {
    "execution": {
     "iopub.execute_input": "2025-04-16T11:51:39.720727Z",
     "iopub.status.busy": "2025-04-16T11:51:39.720383Z",
     "iopub.status.idle": "2025-04-16T11:51:39.810115Z",
     "shell.execute_reply": "2025-04-16T11:51:39.809150Z"
    },
    "papermill": {
     "duration": 0.098382,
     "end_time": "2025-04-16T11:51:39.811785",
     "exception": false,
     "start_time": "2025-04-16T11:51:39.713403",
     "status": "completed"
    },
    "tags": []
   },
   "outputs": [],
   "source": [
    "df['Bathroom'] = pd.to_numeric(df['Bathroom'],errors = 'coerce')\n",
    "# coerce convert invalid values to NaN"
   ]
  },
  {
   "cell_type": "code",
   "execution_count": 12,
   "id": "8ca20e39",
   "metadata": {
    "execution": {
     "iopub.execute_input": "2025-04-16T11:51:39.824190Z",
     "iopub.status.busy": "2025-04-16T11:51:39.823882Z",
     "iopub.status.idle": "2025-04-16T11:51:39.830412Z",
     "shell.execute_reply": "2025-04-16T11:51:39.829445Z"
    },
    "papermill": {
     "duration": 0.014803,
     "end_time": "2025-04-16T11:51:39.832292",
     "exception": false,
     "start_time": "2025-04-16T11:51:39.817489",
     "status": "completed"
    },
    "tags": []
   },
   "outputs": [],
   "source": [
    "# we can do for same as bathroom also\n",
    "df['Bathroom'] = df['Bathroom'].mean()"
   ]
  },
  {
   "cell_type": "code",
   "execution_count": 13,
   "id": "732928ff",
   "metadata": {
    "execution": {
     "iopub.execute_input": "2025-04-16T11:51:39.845071Z",
     "iopub.status.busy": "2025-04-16T11:51:39.844753Z",
     "iopub.status.idle": "2025-04-16T11:51:39.851344Z",
     "shell.execute_reply": "2025-04-16T11:51:39.850524Z"
    },
    "papermill": {
     "duration": 0.014743,
     "end_time": "2025-04-16T11:51:39.853082",
     "exception": false,
     "start_time": "2025-04-16T11:51:39.838339",
     "status": "completed"
    },
    "tags": []
   },
   "outputs": [],
   "source": [
    "df['Bathroom'] = df['Bathroom'].fillna(df['Bathroom'].mean())\n"
   ]
  },
  {
   "cell_type": "code",
   "execution_count": 14,
   "id": "f61de131",
   "metadata": {
    "execution": {
     "iopub.execute_input": "2025-04-16T11:51:39.865712Z",
     "iopub.status.busy": "2025-04-16T11:51:39.865380Z",
     "iopub.status.idle": "2025-04-16T11:51:39.902642Z",
     "shell.execute_reply": "2025-04-16T11:51:39.901607Z"
    },
    "papermill": {
     "duration": 0.045153,
     "end_time": "2025-04-16T11:51:39.904276",
     "exception": false,
     "start_time": "2025-04-16T11:51:39.859123",
     "status": "completed"
    },
    "tags": []
   },
   "outputs": [
    {
     "data": {
      "text/plain": [
       "Index                    0\n",
       "Amount(in rupees)        0\n",
       "Price (in rupees)        0\n",
       "location                 0\n",
       "Bathroom                 0\n",
       "Balcony              48935\n",
       "dtype: int64"
      ]
     },
     "execution_count": 14,
     "metadata": {},
     "output_type": "execute_result"
    }
   ],
   "source": [
    "df.isnull().sum()"
   ]
  },
  {
   "cell_type": "code",
   "execution_count": 15,
   "id": "289147c0",
   "metadata": {
    "execution": {
     "iopub.execute_input": "2025-04-16T11:51:39.916393Z",
     "iopub.status.busy": "2025-04-16T11:51:39.916006Z",
     "iopub.status.idle": "2025-04-16T11:51:39.921307Z",
     "shell.execute_reply": "2025-04-16T11:51:39.920310Z"
    },
    "papermill": {
     "duration": 0.012924,
     "end_time": "2025-04-16T11:51:39.922700",
     "exception": false,
     "start_time": "2025-04-16T11:51:39.909776",
     "status": "completed"
    },
    "tags": []
   },
   "outputs": [
    {
     "name": "stdout",
     "output_type": "stream",
     "text": [
      "object\n"
     ]
    }
   ],
   "source": [
    "# check the datatype of bathroom\n",
    "print(df['Balcony'].dtypes)"
   ]
  },
  {
   "cell_type": "code",
   "execution_count": 16,
   "id": "e9038a73",
   "metadata": {
    "execution": {
     "iopub.execute_input": "2025-04-16T11:51:39.934488Z",
     "iopub.status.busy": "2025-04-16T11:51:39.934210Z",
     "iopub.status.idle": "2025-04-16T11:51:40.005440Z",
     "shell.execute_reply": "2025-04-16T11:51:40.004314Z"
    },
    "papermill": {
     "duration": 0.079018,
     "end_time": "2025-04-16T11:51:40.007111",
     "exception": false,
     "start_time": "2025-04-16T11:51:39.928093",
     "status": "completed"
    },
    "tags": []
   },
   "outputs": [],
   "source": [
    "#convert the non numeric value to numeric value in the dataset\n",
    "df['Balcony'] = pd.to_numeric(df['Balcony'],errors='coerce')"
   ]
  },
  {
   "cell_type": "code",
   "execution_count": 17,
   "id": "903b1bb8",
   "metadata": {
    "execution": {
     "iopub.execute_input": "2025-04-16T11:51:40.019362Z",
     "iopub.status.busy": "2025-04-16T11:51:40.019100Z",
     "iopub.status.idle": "2025-04-16T11:51:40.025092Z",
     "shell.execute_reply": "2025-04-16T11:51:40.024192Z"
    },
    "papermill": {
     "duration": 0.013905,
     "end_time": "2025-04-16T11:51:40.026657",
     "exception": false,
     "start_time": "2025-04-16T11:51:40.012752",
     "status": "completed"
    },
    "tags": []
   },
   "outputs": [],
   "source": [
    "df['Balcony'] = df['Balcony'].mean()"
   ]
  },
  {
   "cell_type": "code",
   "execution_count": 18,
   "id": "4a869bf6",
   "metadata": {
    "execution": {
     "iopub.execute_input": "2025-04-16T11:51:40.039190Z",
     "iopub.status.busy": "2025-04-16T11:51:40.038460Z",
     "iopub.status.idle": "2025-04-16T11:51:40.045203Z",
     "shell.execute_reply": "2025-04-16T11:51:40.044202Z"
    },
    "papermill": {
     "duration": 0.01463,
     "end_time": "2025-04-16T11:51:40.046800",
     "exception": false,
     "start_time": "2025-04-16T11:51:40.032170",
     "status": "completed"
    },
    "tags": []
   },
   "outputs": [],
   "source": [
    "df['Balcony'] = df['Balcony'].fillna(df['Balcony'].mean())"
   ]
  },
  {
   "cell_type": "code",
   "execution_count": 19,
   "id": "ea060858",
   "metadata": {
    "execution": {
     "iopub.execute_input": "2025-04-16T11:51:40.059534Z",
     "iopub.status.busy": "2025-04-16T11:51:40.059258Z",
     "iopub.status.idle": "2025-04-16T11:51:40.088092Z",
     "shell.execute_reply": "2025-04-16T11:51:40.087228Z"
    },
    "papermill": {
     "duration": 0.03709,
     "end_time": "2025-04-16T11:51:40.089744",
     "exception": false,
     "start_time": "2025-04-16T11:51:40.052654",
     "status": "completed"
    },
    "tags": []
   },
   "outputs": [
    {
     "data": {
      "text/plain": [
       "Index                0\n",
       "Amount(in rupees)    0\n",
       "Price (in rupees)    0\n",
       "location             0\n",
       "Bathroom             0\n",
       "Balcony              0\n",
       "dtype: int64"
      ]
     },
     "execution_count": 19,
     "metadata": {},
     "output_type": "execute_result"
    }
   ],
   "source": [
    "df.isnull().sum()"
   ]
  },
  {
   "cell_type": "markdown",
   "id": "038fa5eb",
   "metadata": {
    "papermill": {
     "duration": 0.005167,
     "end_time": "2025-04-16T11:51:40.100527",
     "exception": false,
     "start_time": "2025-04-16T11:51:40.095360",
     "status": "completed"
    },
    "tags": []
   },
   "source": [
    "# ****Calculate the Linear Regression Model****# "
   ]
  },
  {
   "cell_type": "code",
   "execution_count": 20,
   "id": "2d094e72",
   "metadata": {
    "execution": {
     "iopub.execute_input": "2025-04-16T11:51:40.113066Z",
     "iopub.status.busy": "2025-04-16T11:51:40.112255Z",
     "iopub.status.idle": "2025-04-16T11:51:41.919375Z",
     "shell.execute_reply": "2025-04-16T11:51:41.918463Z"
    },
    "papermill": {
     "duration": 1.815164,
     "end_time": "2025-04-16T11:51:41.921146",
     "exception": false,
     "start_time": "2025-04-16T11:51:40.105982",
     "status": "completed"
    },
    "tags": []
   },
   "outputs": [],
   "source": [
    "from sklearn.linear_model import LinearRegression"
   ]
  },
  {
   "cell_type": "code",
   "execution_count": 21,
   "id": "ce4fee81",
   "metadata": {
    "execution": {
     "iopub.execute_input": "2025-04-16T11:51:41.933952Z",
     "iopub.status.busy": "2025-04-16T11:51:41.933211Z",
     "iopub.status.idle": "2025-04-16T11:51:41.938166Z",
     "shell.execute_reply": "2025-04-16T11:51:41.937125Z"
    },
    "papermill": {
     "duration": 0.013117,
     "end_time": "2025-04-16T11:51:41.939889",
     "exception": false,
     "start_time": "2025-04-16T11:51:41.926772",
     "status": "completed"
    },
    "tags": []
   },
   "outputs": [],
   "source": [
    "reg = LinearRegression()"
   ]
  },
  {
   "cell_type": "code",
   "execution_count": 22,
   "id": "a960ab10",
   "metadata": {
    "execution": {
     "iopub.execute_input": "2025-04-16T11:51:41.952256Z",
     "iopub.status.busy": "2025-04-16T11:51:41.951945Z",
     "iopub.status.idle": "2025-04-16T11:51:42.032414Z",
     "shell.execute_reply": "2025-04-16T11:51:42.031382Z"
    },
    "papermill": {
     "duration": 0.08848,
     "end_time": "2025-04-16T11:51:42.034166",
     "exception": false,
     "start_time": "2025-04-16T11:51:41.945686",
     "status": "completed"
    },
    "tags": []
   },
   "outputs": [
    {
     "data": {
      "text/html": [
       "<style>#sk-container-id-1 {color: black;background-color: white;}#sk-container-id-1 pre{padding: 0;}#sk-container-id-1 div.sk-toggleable {background-color: white;}#sk-container-id-1 label.sk-toggleable__label {cursor: pointer;display: block;width: 100%;margin-bottom: 0;padding: 0.3em;box-sizing: border-box;text-align: center;}#sk-container-id-1 label.sk-toggleable__label-arrow:before {content: \"▸\";float: left;margin-right: 0.25em;color: #696969;}#sk-container-id-1 label.sk-toggleable__label-arrow:hover:before {color: black;}#sk-container-id-1 div.sk-estimator:hover label.sk-toggleable__label-arrow:before {color: black;}#sk-container-id-1 div.sk-toggleable__content {max-height: 0;max-width: 0;overflow: hidden;text-align: left;background-color: #f0f8ff;}#sk-container-id-1 div.sk-toggleable__content pre {margin: 0.2em;color: black;border-radius: 0.25em;background-color: #f0f8ff;}#sk-container-id-1 input.sk-toggleable__control:checked~div.sk-toggleable__content {max-height: 200px;max-width: 100%;overflow: auto;}#sk-container-id-1 input.sk-toggleable__control:checked~label.sk-toggleable__label-arrow:before {content: \"▾\";}#sk-container-id-1 div.sk-estimator input.sk-toggleable__control:checked~label.sk-toggleable__label {background-color: #d4ebff;}#sk-container-id-1 div.sk-label input.sk-toggleable__control:checked~label.sk-toggleable__label {background-color: #d4ebff;}#sk-container-id-1 input.sk-hidden--visually {border: 0;clip: rect(1px 1px 1px 1px);clip: rect(1px, 1px, 1px, 1px);height: 1px;margin: -1px;overflow: hidden;padding: 0;position: absolute;width: 1px;}#sk-container-id-1 div.sk-estimator {font-family: monospace;background-color: #f0f8ff;border: 1px dotted black;border-radius: 0.25em;box-sizing: border-box;margin-bottom: 0.5em;}#sk-container-id-1 div.sk-estimator:hover {background-color: #d4ebff;}#sk-container-id-1 div.sk-parallel-item::after {content: \"\";width: 100%;border-bottom: 1px solid gray;flex-grow: 1;}#sk-container-id-1 div.sk-label:hover label.sk-toggleable__label {background-color: #d4ebff;}#sk-container-id-1 div.sk-serial::before {content: \"\";position: absolute;border-left: 1px solid gray;box-sizing: border-box;top: 0;bottom: 0;left: 50%;z-index: 0;}#sk-container-id-1 div.sk-serial {display: flex;flex-direction: column;align-items: center;background-color: white;padding-right: 0.2em;padding-left: 0.2em;position: relative;}#sk-container-id-1 div.sk-item {position: relative;z-index: 1;}#sk-container-id-1 div.sk-parallel {display: flex;align-items: stretch;justify-content: center;background-color: white;position: relative;}#sk-container-id-1 div.sk-item::before, #sk-container-id-1 div.sk-parallel-item::before {content: \"\";position: absolute;border-left: 1px solid gray;box-sizing: border-box;top: 0;bottom: 0;left: 50%;z-index: -1;}#sk-container-id-1 div.sk-parallel-item {display: flex;flex-direction: column;z-index: 1;position: relative;background-color: white;}#sk-container-id-1 div.sk-parallel-item:first-child::after {align-self: flex-end;width: 50%;}#sk-container-id-1 div.sk-parallel-item:last-child::after {align-self: flex-start;width: 50%;}#sk-container-id-1 div.sk-parallel-item:only-child::after {width: 0;}#sk-container-id-1 div.sk-dashed-wrapped {border: 1px dashed gray;margin: 0 0.4em 0.5em 0.4em;box-sizing: border-box;padding-bottom: 0.4em;background-color: white;}#sk-container-id-1 div.sk-label label {font-family: monospace;font-weight: bold;display: inline-block;line-height: 1.2em;}#sk-container-id-1 div.sk-label-container {text-align: center;}#sk-container-id-1 div.sk-container {/* jupyter's `normalize.less` sets `[hidden] { display: none; }` but bootstrap.min.css set `[hidden] { display: none !important; }` so we also need the `!important` here to be able to override the default hidden behavior on the sphinx rendered scikit-learn.org. See: https://github.com/scikit-learn/scikit-learn/issues/21755 */display: inline-block !important;position: relative;}#sk-container-id-1 div.sk-text-repr-fallback {display: none;}</style><div id=\"sk-container-id-1\" class=\"sk-top-container\"><div class=\"sk-text-repr-fallback\"><pre>LinearRegression()</pre><b>In a Jupyter environment, please rerun this cell to show the HTML representation or trust the notebook. <br />On GitHub, the HTML representation is unable to render, please try loading this page with nbviewer.org.</b></div><div class=\"sk-container\" hidden><div class=\"sk-item\"><div class=\"sk-estimator sk-toggleable\"><input class=\"sk-toggleable__control sk-hidden--visually\" id=\"sk-estimator-id-1\" type=\"checkbox\" checked><label for=\"sk-estimator-id-1\" class=\"sk-toggleable__label sk-toggleable__label-arrow\">LinearRegression</label><div class=\"sk-toggleable__content\"><pre>LinearRegression()</pre></div></div></div></div></div>"
      ],
      "text/plain": [
       "LinearRegression()"
      ]
     },
     "execution_count": 22,
     "metadata": {},
     "output_type": "execute_result"
    }
   ],
   "source": [
    "reg.fit(df[['Bathroom','Balcony']],df['Price (in rupees)'])"
   ]
  },
  {
   "cell_type": "code",
   "execution_count": 23,
   "id": "1511411d",
   "metadata": {
    "execution": {
     "iopub.execute_input": "2025-04-16T11:51:42.047391Z",
     "iopub.status.busy": "2025-04-16T11:51:42.046519Z",
     "iopub.status.idle": "2025-04-16T11:51:42.055901Z",
     "shell.execute_reply": "2025-04-16T11:51:42.054696Z"
    },
    "papermill": {
     "duration": 0.017209,
     "end_time": "2025-04-16T11:51:42.057325",
     "exception": false,
     "start_time": "2025-04-16T11:51:42.040116",
     "status": "completed"
    },
    "tags": []
   },
   "outputs": [
    {
     "name": "stderr",
     "output_type": "stream",
     "text": [
      "/usr/local/lib/python3.11/dist-packages/sklearn/base.py:439: UserWarning: X does not have valid feature names, but LinearRegression was fitted with feature names\n",
      "  warnings.warn(\n"
     ]
    },
    {
     "data": {
      "text/plain": [
       "array([7584.49606115])"
      ]
     },
     "execution_count": 23,
     "metadata": {},
     "output_type": "execute_result"
    }
   ],
   "source": [
    "reg.predict([[1,2]])"
   ]
  },
  {
   "cell_type": "code",
   "execution_count": 24,
   "id": "f9adca36",
   "metadata": {
    "execution": {
     "iopub.execute_input": "2025-04-16T11:51:42.070760Z",
     "iopub.status.busy": "2025-04-16T11:51:42.069898Z",
     "iopub.status.idle": "2025-04-16T11:51:42.094540Z",
     "shell.execute_reply": "2025-04-16T11:51:42.093712Z"
    },
    "papermill": {
     "duration": 0.032783,
     "end_time": "2025-04-16T11:51:42.096046",
     "exception": false,
     "start_time": "2025-04-16T11:51:42.063263",
     "status": "completed"
    },
    "tags": []
   },
   "outputs": [
    {
     "data": {
      "text/plain": [
       "0.0"
      ]
     },
     "execution_count": 24,
     "metadata": {},
     "output_type": "execute_result"
    }
   ],
   "source": [
    "reg.score(df[['Bathroom','Balcony']],df['Price (in rupees)'])"
   ]
  }
 ],
 "metadata": {
  "kaggle": {
   "accelerator": "none",
   "dataSources": [
    {
     "datasetId": 3583769,
     "sourceId": 6237943,
     "sourceType": "datasetVersion"
    }
   ],
   "dockerImageVersionId": 31012,
   "isGpuEnabled": false,
   "isInternetEnabled": false,
   "language": "python",
   "sourceType": "notebook"
  },
  "kernelspec": {
   "display_name": "Python 3",
   "language": "python",
   "name": "python3"
  },
  "language_info": {
   "codemirror_mode": {
    "name": "ipython",
    "version": 3
   },
   "file_extension": ".py",
   "mimetype": "text/x-python",
   "name": "python",
   "nbconvert_exporter": "python",
   "pygments_lexer": "ipython3",
   "version": "3.11.11"
  },
  "papermill": {
   "default_parameters": {},
   "duration": 14.051852,
   "end_time": "2025-04-16T11:51:42.822911",
   "environment_variables": {},
   "exception": null,
   "input_path": "__notebook__.ipynb",
   "output_path": "__notebook__.ipynb",
   "parameters": {},
   "start_time": "2025-04-16T11:51:28.771059",
   "version": "2.6.0"
  }
 },
 "nbformat": 4,
 "nbformat_minor": 5
}
