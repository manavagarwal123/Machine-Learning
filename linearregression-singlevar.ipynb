{
 "cells": [
  {
   "cell_type": "code",
   "execution_count": 1,
   "id": "2261f3f0",
   "metadata": {
    "execution": {
     "iopub.execute_input": "2025-04-16T11:53:23.305568Z",
     "iopub.status.busy": "2025-04-16T11:53:23.305229Z",
     "iopub.status.idle": "2025-04-16T11:53:27.227753Z",
     "shell.execute_reply": "2025-04-16T11:53:27.226461Z"
    },
    "papermill": {
     "duration": 3.929534,
     "end_time": "2025-04-16T11:53:27.230117",
     "exception": false,
     "start_time": "2025-04-16T11:53:23.300583",
     "status": "completed"
    },
    "tags": []
   },
   "outputs": [],
   "source": [
    "import pandas as pd\n",
    "import numpy as np \n",
    "import matplotlib.pyplot as plt\n",
    "from sklearn.linear_model import LinearRegression"
   ]
  },
  {
   "cell_type": "code",
   "execution_count": 2,
   "id": "7d8f20e8",
   "metadata": {
    "execution": {
     "iopub.execute_input": "2025-04-16T11:53:27.241869Z",
     "iopub.status.busy": "2025-04-16T11:53:27.240750Z",
     "iopub.status.idle": "2025-04-16T11:53:27.298107Z",
     "shell.execute_reply": "2025-04-16T11:53:27.297149Z"
    },
    "papermill": {
     "duration": 0.064025,
     "end_time": "2025-04-16T11:53:27.299698",
     "exception": false,
     "start_time": "2025-04-16T11:53:27.235673",
     "status": "completed"
    },
    "tags": []
   },
   "outputs": [
    {
     "name": "stderr",
     "output_type": "stream",
     "text": [
      "/usr/local/lib/python3.11/dist-packages/pandas/io/formats/format.py:1458: RuntimeWarning: invalid value encountered in greater\n",
      "  has_large_values = (abs_vals > 1e6).any()\n",
      "/usr/local/lib/python3.11/dist-packages/pandas/io/formats/format.py:1459: RuntimeWarning: invalid value encountered in less\n",
      "  has_small_values = ((abs_vals < 10 ** (-self.digits)) & (abs_vals > 0)).any()\n",
      "/usr/local/lib/python3.11/dist-packages/pandas/io/formats/format.py:1459: RuntimeWarning: invalid value encountered in greater\n",
      "  has_small_values = ((abs_vals < 10 ** (-self.digits)) & (abs_vals > 0)).any()\n"
     ]
    },
    {
     "data": {
      "text/html": [
       "<div>\n",
       "<style scoped>\n",
       "    .dataframe tbody tr th:only-of-type {\n",
       "        vertical-align: middle;\n",
       "    }\n",
       "\n",
       "    .dataframe tbody tr th {\n",
       "        vertical-align: top;\n",
       "    }\n",
       "\n",
       "    .dataframe thead th {\n",
       "        text-align: right;\n",
       "    }\n",
       "</style>\n",
       "<table border=\"1\" class=\"dataframe\">\n",
       "  <thead>\n",
       "    <tr style=\"text-align: right;\">\n",
       "      <th></th>\n",
       "      <th>Unnamed: 0</th>\n",
       "      <th>Area</th>\n",
       "      <th>Price</th>\n",
       "      <th>Unnamed: 3</th>\n",
       "      <th>Unnamed: 4</th>\n",
       "      <th>Unnamed: 5</th>\n",
       "      <th>Unnamed: 6</th>\n",
       "    </tr>\n",
       "  </thead>\n",
       "  <tbody>\n",
       "    <tr>\n",
       "      <th>0</th>\n",
       "      <td>NaN</td>\n",
       "      <td>90</td>\n",
       "      <td>8989</td>\n",
       "      <td>NaN</td>\n",
       "      <td>NaN</td>\n",
       "      <td>NaN</td>\n",
       "      <td>NaN</td>\n",
       "    </tr>\n",
       "    <tr>\n",
       "      <th>1</th>\n",
       "      <td>NaN</td>\n",
       "      <td>12000</td>\n",
       "      <td>12345</td>\n",
       "      <td>NaN</td>\n",
       "      <td>NaN</td>\n",
       "      <td>NaN</td>\n",
       "      <td>NaN</td>\n",
       "    </tr>\n",
       "    <tr>\n",
       "      <th>2</th>\n",
       "      <td>NaN</td>\n",
       "      <td>23000</td>\n",
       "      <td>123456</td>\n",
       "      <td>NaN</td>\n",
       "      <td>NaN</td>\n",
       "      <td>NaN</td>\n",
       "      <td>NaN</td>\n",
       "    </tr>\n",
       "    <tr>\n",
       "      <th>3</th>\n",
       "      <td>NaN</td>\n",
       "      <td>34000</td>\n",
       "      <td>1234567654</td>\n",
       "      <td>NaN</td>\n",
       "      <td>NaN</td>\n",
       "      <td>NaN</td>\n",
       "      <td>NaN</td>\n",
       "    </tr>\n",
       "    <tr>\n",
       "      <th>4</th>\n",
       "      <td>NaN</td>\n",
       "      <td>3300</td>\n",
       "      <td>213456432</td>\n",
       "      <td>NaN</td>\n",
       "      <td>NaN</td>\n",
       "      <td>NaN</td>\n",
       "      <td>NaN</td>\n",
       "    </tr>\n",
       "    <tr>\n",
       "      <th>5</th>\n",
       "      <td>NaN</td>\n",
       "      <td>2399</td>\n",
       "      <td>12345432</td>\n",
       "      <td>NaN</td>\n",
       "      <td>NaN</td>\n",
       "      <td>NaN</td>\n",
       "      <td>NaN</td>\n",
       "    </tr>\n",
       "    <tr>\n",
       "      <th>6</th>\n",
       "      <td>NaN</td>\n",
       "      <td>2344</td>\n",
       "      <td>23145321</td>\n",
       "      <td>NaN</td>\n",
       "      <td>NaN</td>\n",
       "      <td>NaN</td>\n",
       "      <td>NaN</td>\n",
       "    </tr>\n",
       "  </tbody>\n",
       "</table>\n",
       "</div>"
      ],
      "text/plain": [
       "   Unnamed: 0   Area       Price  Unnamed: 3  Unnamed: 4  Unnamed: 5  \\\n",
       "0         NaN     90        8989         NaN         NaN         NaN   \n",
       "1         NaN  12000       12345         NaN         NaN         NaN   \n",
       "2         NaN  23000      123456         NaN         NaN         NaN   \n",
       "3         NaN  34000  1234567654         NaN         NaN         NaN   \n",
       "4         NaN   3300   213456432         NaN         NaN         NaN   \n",
       "5         NaN   2399    12345432         NaN         NaN         NaN   \n",
       "6         NaN   2344    23145321         NaN         NaN         NaN   \n",
       "\n",
       "   Unnamed: 6  \n",
       "0         NaN  \n",
       "1         NaN  \n",
       "2         NaN  \n",
       "3         NaN  \n",
       "4         NaN  \n",
       "5         NaN  \n",
       "6         NaN  "
      ]
     },
     "execution_count": 2,
     "metadata": {},
     "output_type": "execute_result"
    }
   ],
   "source": [
    "df = pd.read_csv(\"/kaggle/input/house-price/house_price.csv\")\n",
    "df"
   ]
  },
  {
   "cell_type": "code",
   "execution_count": 3,
   "id": "97062c72",
   "metadata": {
    "execution": {
     "iopub.execute_input": "2025-04-16T11:53:27.307168Z",
     "iopub.status.busy": "2025-04-16T11:53:27.306883Z",
     "iopub.status.idle": "2025-04-16T11:53:27.321201Z",
     "shell.execute_reply": "2025-04-16T11:53:27.320170Z"
    },
    "papermill": {
     "duration": 0.020011,
     "end_time": "2025-04-16T11:53:27.322890",
     "exception": false,
     "start_time": "2025-04-16T11:53:27.302879",
     "status": "completed"
    },
    "tags": []
   },
   "outputs": [
    {
     "data": {
      "text/html": [
       "<div>\n",
       "<style scoped>\n",
       "    .dataframe tbody tr th:only-of-type {\n",
       "        vertical-align: middle;\n",
       "    }\n",
       "\n",
       "    .dataframe tbody tr th {\n",
       "        vertical-align: top;\n",
       "    }\n",
       "\n",
       "    .dataframe thead th {\n",
       "        text-align: right;\n",
       "    }\n",
       "</style>\n",
       "<table border=\"1\" class=\"dataframe\">\n",
       "  <thead>\n",
       "    <tr style=\"text-align: right;\">\n",
       "      <th></th>\n",
       "      <th>Area</th>\n",
       "      <th>Price</th>\n",
       "    </tr>\n",
       "  </thead>\n",
       "  <tbody>\n",
       "    <tr>\n",
       "      <th>0</th>\n",
       "      <td>90</td>\n",
       "      <td>8989</td>\n",
       "    </tr>\n",
       "    <tr>\n",
       "      <th>1</th>\n",
       "      <td>12000</td>\n",
       "      <td>12345</td>\n",
       "    </tr>\n",
       "    <tr>\n",
       "      <th>2</th>\n",
       "      <td>23000</td>\n",
       "      <td>123456</td>\n",
       "    </tr>\n",
       "    <tr>\n",
       "      <th>3</th>\n",
       "      <td>34000</td>\n",
       "      <td>1234567654</td>\n",
       "    </tr>\n",
       "    <tr>\n",
       "      <th>4</th>\n",
       "      <td>3300</td>\n",
       "      <td>213456432</td>\n",
       "    </tr>\n",
       "    <tr>\n",
       "      <th>5</th>\n",
       "      <td>2399</td>\n",
       "      <td>12345432</td>\n",
       "    </tr>\n",
       "    <tr>\n",
       "      <th>6</th>\n",
       "      <td>2344</td>\n",
       "      <td>23145321</td>\n",
       "    </tr>\n",
       "  </tbody>\n",
       "</table>\n",
       "</div>"
      ],
      "text/plain": [
       "    Area       Price\n",
       "0     90        8989\n",
       "1  12000       12345\n",
       "2  23000      123456\n",
       "3  34000  1234567654\n",
       "4   3300   213456432\n",
       "5   2399    12345432\n",
       "6   2344    23145321"
      ]
     },
     "execution_count": 3,
     "metadata": {},
     "output_type": "execute_result"
    }
   ],
   "source": [
    "df = df.drop(['Unnamed: 0','Unnamed: 3','Unnamed: 4','Unnamed: 5','Unnamed: 6'],axis='columns')\n",
    "df"
   ]
  },
  {
   "cell_type": "code",
   "execution_count": 4,
   "id": "0172a3ee",
   "metadata": {
    "execution": {
     "iopub.execute_input": "2025-04-16T11:53:27.330792Z",
     "iopub.status.busy": "2025-04-16T11:53:27.330493Z",
     "iopub.status.idle": "2025-04-16T11:53:27.575997Z",
     "shell.execute_reply": "2025-04-16T11:53:27.575027Z"
    },
    "papermill": {
     "duration": 0.251599,
     "end_time": "2025-04-16T11:53:27.578001",
     "exception": false,
     "start_time": "2025-04-16T11:53:27.326402",
     "status": "completed"
    },
    "tags": []
   },
   "outputs": [
    {
     "data": {
      "image/png": "[encoded data removed]",
      "text/plain": [
       "<Figure size 640x480 with 1 Axes>"
      ]
     },
     "metadata": {},
     "output_type": "display_data"
    }
   ],
   "source": [
    "plt.xlabel('area')\n",
    "plt.ylabel('Price')\n",
    "plt.scatter(df.Area,df.Price,color='red',marker='+')\n",
    "plt.show()"
   ]
  },
  {
   "cell_type": "code",
   "execution_count": 5,
   "id": "ff7b56cc",
   "metadata": {
    "execution": {
     "iopub.execute_input": "2025-04-16T11:53:27.586145Z",
     "iopub.status.busy": "2025-04-16T11:53:27.585812Z",
     "iopub.status.idle": "2025-04-16T11:53:27.590514Z",
     "shell.execute_reply": "2025-04-16T11:53:27.589456Z"
    },
    "papermill": {
     "duration": 0.010392,
     "end_time": "2025-04-16T11:53:27.592039",
     "exception": false,
     "start_time": "2025-04-16T11:53:27.581647",
     "status": "completed"
    },
    "tags": []
   },
   "outputs": [],
   "source": [
    "reg = LinearRegression()"
   ]
  },
  {
   "cell_type": "code",
   "execution_count": 6,
   "id": "f0125b3e",
   "metadata": {
    "execution": {
     "iopub.execute_input": "2025-04-16T11:53:27.601999Z",
     "iopub.status.busy": "2025-04-16T11:53:27.601686Z",
     "iopub.status.idle": "2025-04-16T11:53:27.631562Z",
     "shell.execute_reply": "2025-04-16T11:53:27.630420Z"
    },
    "papermill": {
     "duration": 0.037585,
     "end_time": "2025-04-16T11:53:27.633193",
     "exception": false,
     "start_time": "2025-04-16T11:53:27.595608",
     "status": "completed"
    },
    "tags": []
   },
   "outputs": [
    {
     "data": {
      "text/html": [
       "<style>#sk-container-id-1 {color: black;background-color: white;}#sk-container-id-1 pre{padding: 0;}#sk-container-id-1 div.sk-toggleable {background-color: white;}#sk-container-id-1 label.sk-toggleable__label {cursor: pointer;display: block;width: 100%;margin-bottom: 0;padding: 0.3em;box-sizing: border-box;text-align: center;}#sk-container-id-1 label.sk-toggleable__label-arrow:before {content: \"▸\";float: left;margin-right: 0.25em;color: #696969;}#sk-container-id-1 label.sk-toggleable__label-arrow:hover:before {color: black;}#sk-container-id-1 div.sk-estimator:hover label.sk-toggleable__label-arrow:before {color: black;}#sk-container-id-1 div.sk-toggleable__content {max-height: 0;max-width: 0;overflow: hidden;text-align: left;background-color: #f0f8ff;}#sk-container-id-1 div.sk-toggleable__content pre {margin: 0.2em;color: black;border-radius: 0.25em;background-color: #f0f8ff;}#sk-container-id-1 input.sk-toggleable__control:checked~div.sk-toggleable__content {max-height: 200px;max-width: 100%;overflow: auto;}#sk-container-id-1 input.sk-toggleable__control:checked~label.sk-toggleable__label-arrow:before {content: \"▾\";}#sk-container-id-1 div.sk-estimator input.sk-toggleable__control:checked~label.sk-toggleable__label {background-color: #d4ebff;}#sk-container-id-1 div.sk-label input.sk-toggleable__control:checked~label.sk-toggleable__label {background-color: #d4ebff;}#sk-container-id-1 input.sk-hidden--visually {border: 0;clip: rect(1px 1px 1px 1px);clip: rect(1px, 1px, 1px, 1px);height: 1px;margin: -1px;overflow: hidden;padding: 0;position: absolute;width: 1px;}#sk-container-id-1 div.sk-estimator {font-family: monospace;background-color: #f0f8ff;border: 1px dotted black;border-radius: 0.25em;box-sizing: border-box;margin-bottom: 0.5em;}#sk-container-id-1 div.sk-estimator:hover {background-color: #d4ebff;}#sk-container-id-1 div.sk-parallel-item::after {content: \"\";width: 100%;border-bottom: 1px solid gray;flex-grow: 1;}#sk-container-id-1 div.sk-label:hover label.sk-toggleable__label {background-color: #d4ebff;}#sk-container-id-1 div.sk-serial::before {content: \"\";position: absolute;border-left: 1px solid gray;box-sizing: border-box;top: 0;bottom: 0;left: 50%;z-index: 0;}#sk-container-id-1 div.sk-serial {display: flex;flex-direction: column;align-items: center;background-color: white;padding-right: 0.2em;padding-left: 0.2em;position: relative;}#sk-container-id-1 div.sk-item {position: relative;z-index: 1;}#sk-container-id-1 div.sk-parallel {display: flex;align-items: stretch;justify-content: center;background-color: white;position: relative;}#sk-container-id-1 div.sk-item::before, #sk-container-id-1 div.sk-parallel-item::before {content: \"\";position: absolute;border-left: 1px solid gray;box-sizing: border-box;top: 0;bottom: 0;left: 50%;z-index: -1;}#sk-container-id-1 div.sk-parallel-item {display: flex;flex-direction: column;z-index: 1;position: relative;background-color: white;}#sk-container-id-1 div.sk-parallel-item:first-child::after {align-self: flex-end;width: 50%;}#sk-container-id-1 div.sk-parallel-item:last-child::after {align-self: flex-start;width: 50%;}#sk-container-id-1 div.sk-parallel-item:only-child::after {width: 0;}#sk-container-id-1 div.sk-dashed-wrapped {border: 1px dashed gray;margin: 0 0.4em 0.5em 0.4em;box-sizing: border-box;padding-bottom: 0.4em;background-color: white;}#sk-container-id-1 div.sk-label label {font-family: monospace;font-weight: bold;display: inline-block;line-height: 1.2em;}#sk-container-id-1 div.sk-label-container {text-align: center;}#sk-container-id-1 div.sk-container {/* jupyter's `normalize.less` sets `[hidden] { display: none; }` but bootstrap.min.css set `[hidden] { display: none !important; }` so we also need the `!important` here to be able to override the default hidden behavior on the sphinx rendered scikit-learn.org. See: https://github.com/scikit-learn/scikit-learn/issues/21755 */display: inline-block !important;position: relative;}#sk-container-id-1 div.sk-text-repr-fallback {display: none;}</style><div id=\"sk-container-id-1\" class=\"sk-top-container\"><div class=\"sk-text-repr-fallback\"><pre>LinearRegression()</pre><b>In a Jupyter environment, please rerun this cell to show the HTML representation or trust the notebook. <br />On GitHub, the HTML representation is unable to render, please try loading this page with nbviewer.org.</b></div><div class=\"sk-container\" hidden><div class=\"sk-item\"><div class=\"sk-estimator sk-toggleable\"><input class=\"sk-toggleable__control sk-hidden--visually\" id=\"sk-estimator-id-1\" type=\"checkbox\" checked><label for=\"sk-estimator-id-1\" class=\"sk-toggleable__label sk-toggleable__label-arrow\">LinearRegression</label><div class=\"sk-toggleable__content\"><pre>LinearRegression()</pre></div></div></div></div></div>"
      ],
      "text/plain": [
       "LinearRegression()"
      ]
     },
     "execution_count": 6,
     "metadata": {},
     "output_type": "execute_result"
    }
   ],
   "source": [
    "reg.fit(df[['Area']],df.Price)"
   ]
  },
  {
   "cell_type": "code",
   "execution_count": 7,
   "id": "5c48e820",
   "metadata": {
    "execution": {
     "iopub.execute_input": "2025-04-16T11:53:27.641929Z",
     "iopub.status.busy": "2025-04-16T11:53:27.641568Z",
     "iopub.status.idle": "2025-04-16T11:53:27.647715Z",
     "shell.execute_reply": "2025-04-16T11:53:27.646827Z"
    },
    "papermill": {
     "duration": 0.012131,
     "end_time": "2025-04-16T11:53:27.649149",
     "exception": false,
     "start_time": "2025-04-16T11:53:27.637018",
     "status": "completed"
    },
    "tags": []
   },
   "outputs": [
    {
     "data": {
      "text/plain": [
       "array([26385.95139325])"
      ]
     },
     "execution_count": 7,
     "metadata": {},
     "output_type": "execute_result"
    }
   ],
   "source": [
    "reg.coef_"
   ]
  },
  {
   "cell_type": "code",
   "execution_count": 8,
   "id": "4eaa238c",
   "metadata": {
    "execution": {
     "iopub.execute_input": "2025-04-16T11:53:27.658081Z",
     "iopub.status.busy": "2025-04-16T11:53:27.657757Z",
     "iopub.status.idle": "2025-04-16T11:53:27.664143Z",
     "shell.execute_reply": "2025-04-16T11:53:27.663159Z"
    },
    "papermill": {
     "duration": 0.012589,
     "end_time": "2025-04-16T11:53:27.665743",
     "exception": false,
     "start_time": "2025-04-16T11:53:27.653154",
     "status": "completed"
    },
    "tags": []
   },
   "outputs": [
    {
     "data": {
      "text/plain": [
       "-78795422.83077076"
      ]
     },
     "execution_count": 8,
     "metadata": {},
     "output_type": "execute_result"
    }
   ],
   "source": [
    "reg.intercept_"
   ]
  },
  {
   "cell_type": "code",
   "execution_count": 9,
   "id": "34e61b7c",
   "metadata": {
    "execution": {
     "iopub.execute_input": "2025-04-16T11:53:27.674850Z",
     "iopub.status.busy": "2025-04-16T11:53:27.674519Z",
     "iopub.status.idle": "2025-04-16T11:53:27.684232Z",
     "shell.execute_reply": "2025-04-16T11:53:27.683380Z"
    },
    "papermill": {
     "duration": 0.016015,
     "end_time": "2025-04-16T11:53:27.685859",
     "exception": false,
     "start_time": "2025-04-16T11:53:27.669844",
     "status": "completed"
    },
    "tags": []
   },
   "outputs": [
    {
     "name": "stderr",
     "output_type": "stream",
     "text": [
      "/usr/local/lib/python3.11/dist-packages/sklearn/base.py:439: UserWarning: X does not have valid feature names, but LinearRegression was fitted with feature names\n",
      "  warnings.warn(\n"
     ]
    },
    {
     "data": {
      "text/plain": [
       "array([8.18326925e+08])"
      ]
     },
     "execution_count": 9,
     "metadata": {},
     "output_type": "execute_result"
    }
   ],
   "source": [
    "reg.predict([[34000]])"
   ]
  },
  {
   "cell_type": "code",
   "execution_count": 10,
   "id": "1a4a7ed4",
   "metadata": {
    "execution": {
     "iopub.execute_input": "2025-04-16T11:53:27.694894Z",
     "iopub.status.busy": "2025-04-16T11:53:27.694591Z",
     "iopub.status.idle": "2025-04-16T11:53:27.700852Z",
     "shell.execute_reply": "2025-04-16T11:53:27.699853Z"
    },
    "papermill": {
     "duration": 0.012556,
     "end_time": "2025-04-16T11:53:27.702333",
     "exception": false,
     "start_time": "2025-04-16T11:53:27.689777",
     "status": "completed"
    },
    "tags": []
   },
   "outputs": [
    {
     "data": {
      "text/plain": [
       "818326924.5397294"
      ]
     },
     "execution_count": 10,
     "metadata": {},
     "output_type": "execute_result"
    }
   ],
   "source": [
    "#y = mx+c\n",
    "26385.95139325 * 34000 + -78795422.83077076"
   ]
  },
  {
   "cell_type": "code",
   "execution_count": 11,
   "id": "effb201e",
   "metadata": {
    "execution": {
     "iopub.execute_input": "2025-04-16T11:53:27.712288Z",
     "iopub.status.busy": "2025-04-16T11:53:27.711994Z",
     "iopub.status.idle": "2025-04-16T11:53:27.721095Z",
     "shell.execute_reply": "2025-04-16T11:53:27.720199Z"
    },
    "papermill": {
     "duration": 0.015907,
     "end_time": "2025-04-16T11:53:27.722607",
     "exception": false,
     "start_time": "2025-04-16T11:53:27.706700",
     "status": "completed"
    },
    "tags": []
   },
   "outputs": [
    {
     "data": {
      "text/plain": [
       "0.5550139465125618"
      ]
     },
     "execution_count": 11,
     "metadata": {},
     "output_type": "execute_result"
    }
   ],
   "source": [
    "reg.score(df[['Area']],df.Price)"
   ]
  },
  {
   "cell_type": "code",
   "execution_count": 12,
   "id": "38e5d76c",
   "metadata": {
    "execution": {
     "iopub.execute_input": "2025-04-16T11:53:27.732242Z",
     "iopub.status.busy": "2025-04-16T11:53:27.731935Z",
     "iopub.status.idle": "2025-04-16T11:53:27.896136Z",
     "shell.execute_reply": "2025-04-16T11:53:27.895227Z"
    },
    "papermill": {
     "duration": 0.171046,
     "end_time": "2025-04-16T11:53:27.897875",
     "exception": false,
     "start_time": "2025-04-16T11:53:27.726829",
     "status": "completed"
    },
    "tags": []
   },
   "outputs": [
    {
     "data": {
      "image/png": "[encoded data removed]",
      "text/plain": [
       "<Figure size 640x480 with 1 Axes>"
      ]
     },
     "metadata": {},
     "output_type": "display_data"
    }
   ],
   "source": [
    "#Check the scatter plot for the updated one\n",
    "plt.xlabel('Area')\n",
    "plt.ylabel('Price')\n",
    "plt.scatter(df[['Area']],reg.predict(df[['Area']]),color='blue')\n",
    "plt.plot(df[['Area']],reg.predict(df[['Area']]),color='red')\n",
    "plt.show()"
   ]
  }
 ],
 "metadata": {
  "kaggle": {
   "accelerator": "none",
   "dataSources": [
    {
     "datasetId": 7161298,
     "sourceId": 11433618,
     "sourceType": "datasetVersion"
    }
   ],
   "dockerImageVersionId": 31012,
   "isGpuEnabled": false,
   "isInternetEnabled": false,
   "language": "python",
   "sourceType": "notebook"
  },
  "kernelspec": {
   "display_name": "Python 3",
   "language": "python",
   "name": "python3"
  },
  "language_info": {
   "codemirror_mode": {
    "name": "ipython",
    "version": 3
   },
   "file_extension": ".py",
   "mimetype": "text/x-python",
   "name": "python",
   "nbconvert_exporter": "python",
   "pygments_lexer": "ipython3",
   "version": "3.11.11"
  },
  "papermill": {
   "default_parameters": {},
   "duration": 10.385616,
   "end_time": "2025-04-16T11:53:28.623513",
   "environment_variables": {},
   "exception": null,
   "input_path": "__notebook__.ipynb",
   "output_path": "__notebook__.ipynb",
   "parameters": {},
   "start_time": "2025-04-16T11:53:18.237897",
   "version": "2.6.0"
  }
 },
 "nbformat": 4,
 "nbformat_minor": 5
}
