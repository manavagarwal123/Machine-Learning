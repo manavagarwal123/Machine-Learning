{
 "cells": [
  {
   "cell_type": "code",
   "execution_count": 1,
   "id": "c3d8b47a",
   "metadata": {
    "execution": {
     "iopub.execute_input": "2025-04-20T08:15:58.105672Z",
     "iopub.status.busy": "2025-04-20T08:15:58.105282Z",
     "iopub.status.idle": "2025-04-20T08:16:02.160936Z",
     "shell.execute_reply": "2025-04-20T08:16:02.159881Z"
    },
    "papermill": {
     "duration": 4.063579,
     "end_time": "2025-04-20T08:16:02.162795",
     "exception": false,
     "start_time": "2025-04-20T08:15:58.099216",
     "status": "completed"
    },
    "tags": []
   },
   "outputs": [],
   "source": [
    "import pandas as pd\n",
    "import numpy as np\n",
    "import matplotlib.pyplot as plt \n",
    "import seaborn as sns"
   ]
  },
  {
   "cell_type": "code",
   "execution_count": 2,
   "id": "11ed6743",
   "metadata": {
    "execution": {
     "iopub.execute_input": "2025-04-20T08:16:02.173080Z",
     "iopub.status.busy": "2025-04-20T08:16:02.172140Z",
     "iopub.status.idle": "2025-04-20T08:16:02.241997Z",
     "shell.execute_reply": "2025-04-20T08:16:02.241202Z"
    },
    "papermill": {
     "duration": 0.07665,
     "end_time": "2025-04-20T08:16:02.243795",
     "exception": false,
     "start_time": "2025-04-20T08:16:02.167145",
     "status": "completed"
    },
    "tags": []
   },
   "outputs": [
    {
     "data": {
      "text/html": [
       "<div>\n",
       "<style scoped>\n",
       "    .dataframe tbody tr th:only-of-type {\n",
       "        vertical-align: middle;\n",
       "    }\n",
       "\n",
       "    .dataframe tbody tr th {\n",
       "        vertical-align: top;\n",
       "    }\n",
       "\n",
       "    .dataframe thead th {\n",
       "        text-align: right;\n",
       "    }\n",
       "</style>\n",
       "<table border=\"1\" class=\"dataframe\">\n",
       "  <thead>\n",
       "    <tr style=\"text-align: right;\">\n",
       "      <th></th>\n",
       "      <th>Category</th>\n",
       "      <th>Message</th>\n",
       "    </tr>\n",
       "  </thead>\n",
       "  <tbody>\n",
       "    <tr>\n",
       "      <th>0</th>\n",
       "      <td>ham</td>\n",
       "      <td>Go until jurong point, crazy.. Available only ...</td>\n",
       "    </tr>\n",
       "    <tr>\n",
       "      <th>1</th>\n",
       "      <td>ham</td>\n",
       "      <td>Ok lar... Joking wif u oni...</td>\n",
       "    </tr>\n",
       "    <tr>\n",
       "      <th>2</th>\n",
       "      <td>spam</td>\n",
       "      <td>Free entry in 2 a wkly comp to win FA Cup fina...</td>\n",
       "    </tr>\n",
       "    <tr>\n",
       "      <th>3</th>\n",
       "      <td>ham</td>\n",
       "      <td>U dun say so early hor... U c already then say...</td>\n",
       "    </tr>\n",
       "    <tr>\n",
       "      <th>4</th>\n",
       "      <td>ham</td>\n",
       "      <td>Nah I don't think he goes to usf, he lives aro...</td>\n",
       "    </tr>\n",
       "    <tr>\n",
       "      <th>...</th>\n",
       "      <td>...</td>\n",
       "      <td>...</td>\n",
       "    </tr>\n",
       "    <tr>\n",
       "      <th>5567</th>\n",
       "      <td>spam</td>\n",
       "      <td>This is the 2nd time we have tried 2 contact u...</td>\n",
       "    </tr>\n",
       "    <tr>\n",
       "      <th>5568</th>\n",
       "      <td>ham</td>\n",
       "      <td>Will ü b going to esplanade fr home?</td>\n",
       "    </tr>\n",
       "    <tr>\n",
       "      <th>5569</th>\n",
       "      <td>ham</td>\n",
       "      <td>Pity, * was in mood for that. So...any other s...</td>\n",
       "    </tr>\n",
       "    <tr>\n",
       "      <th>5570</th>\n",
       "      <td>ham</td>\n",
       "      <td>The guy did some bitching but I acted like i'd...</td>\n",
       "    </tr>\n",
       "    <tr>\n",
       "      <th>5571</th>\n",
       "      <td>ham</td>\n",
       "      <td>Rofl. Its true to its name</td>\n",
       "    </tr>\n",
       "  </tbody>\n",
       "</table>\n",
       "<p>5572 rows × 2 columns</p>\n",
       "</div>"
      ],
      "text/plain": [
       "     Category                                            Message\n",
       "0         ham  Go until jurong point, crazy.. Available only ...\n",
       "1         ham                      Ok lar... Joking wif u oni...\n",
       "2        spam  Free entry in 2 a wkly comp to win FA Cup fina...\n",
       "3         ham  U dun say so early hor... U c already then say...\n",
       "4         ham  Nah I don't think he goes to usf, he lives aro...\n",
       "...       ...                                                ...\n",
       "5567     spam  This is the 2nd time we have tried 2 contact u...\n",
       "5568      ham               Will ü b going to esplanade fr home?\n",
       "5569      ham  Pity, * was in mood for that. So...any other s...\n",
       "5570      ham  The guy did some bitching but I acted like i'd...\n",
       "5571      ham                         Rofl. Its true to its name\n",
       "\n",
       "[5572 rows x 2 columns]"
      ]
     },
     "execution_count": 2,
     "metadata": {},
     "output_type": "execute_result"
    }
   ],
   "source": [
    "df = pd.read_csv('/kaggle/input/spam-emails/spam.csv')\n",
    "df"
   ]
  },
  {
   "cell_type": "code",
   "execution_count": 3,
   "id": "c1e89244",
   "metadata": {
    "execution": {
     "iopub.execute_input": "2025-04-20T08:16:02.254111Z",
     "iopub.status.busy": "2025-04-20T08:16:02.253782Z",
     "iopub.status.idle": "2025-04-20T08:16:02.262432Z",
     "shell.execute_reply": "2025-04-20T08:16:02.261397Z"
    },
    "papermill": {
     "duration": 0.015454,
     "end_time": "2025-04-20T08:16:02.263986",
     "exception": false,
     "start_time": "2025-04-20T08:16:02.248532",
     "status": "completed"
    },
    "tags": []
   },
   "outputs": [
    {
     "data": {
      "text/plain": [
       "Index(['Category', 'Message'], dtype='object')"
      ]
     },
     "execution_count": 3,
     "metadata": {},
     "output_type": "execute_result"
    }
   ],
   "source": [
    "df.columns"
   ]
  },
  {
   "cell_type": "code",
   "execution_count": 4,
   "id": "cf49a4a8",
   "metadata": {
    "execution": {
     "iopub.execute_input": "2025-04-20T08:16:02.273883Z",
     "iopub.status.busy": "2025-04-20T08:16:02.273572Z",
     "iopub.status.idle": "2025-04-20T08:16:02.283685Z",
     "shell.execute_reply": "2025-04-20T08:16:02.282570Z"
    },
    "papermill": {
     "duration": 0.01693,
     "end_time": "2025-04-20T08:16:02.285289",
     "exception": false,
     "start_time": "2025-04-20T08:16:02.268359",
     "status": "completed"
    },
    "tags": []
   },
   "outputs": [
    {
     "data": {
      "text/plain": [
       "<bound method GroupBy.describe of <pandas.core.groupby.generic.DataFrameGroupBy object at 0x7c06862bbe10>>"
      ]
     },
     "execution_count": 4,
     "metadata": {},
     "output_type": "execute_result"
    }
   ],
   "source": [
    "df.groupby('Category').describe"
   ]
  },
  {
   "cell_type": "code",
   "execution_count": 5,
   "id": "4a4079ce",
   "metadata": {
    "execution": {
     "iopub.execute_input": "2025-04-20T08:16:02.296101Z",
     "iopub.status.busy": "2025-04-20T08:16:02.295764Z",
     "iopub.status.idle": "2025-04-20T08:16:02.304274Z",
     "shell.execute_reply": "2025-04-20T08:16:02.303447Z"
    },
    "papermill": {
     "duration": 0.016167,
     "end_time": "2025-04-20T08:16:02.305909",
     "exception": false,
     "start_time": "2025-04-20T08:16:02.289742",
     "status": "completed"
    },
    "tags": []
   },
   "outputs": [],
   "source": [
    "df['spam'] = df['Category'].apply(lambda x:1 if x=='spam' else 0)"
   ]
  },
  {
   "cell_type": "code",
   "execution_count": 6,
   "id": "a301aa6c",
   "metadata": {
    "execution": {
     "iopub.execute_input": "2025-04-20T08:16:02.316901Z",
     "iopub.status.busy": "2025-04-20T08:16:02.316548Z",
     "iopub.status.idle": "2025-04-20T08:16:02.326233Z",
     "shell.execute_reply": "2025-04-20T08:16:02.325302Z"
    },
    "papermill": {
     "duration": 0.017334,
     "end_time": "2025-04-20T08:16:02.328098",
     "exception": false,
     "start_time": "2025-04-20T08:16:02.310764",
     "status": "completed"
    },
    "tags": []
   },
   "outputs": [
    {
     "data": {
      "text/html": [
       "<div>\n",
       "<style scoped>\n",
       "    .dataframe tbody tr th:only-of-type {\n",
       "        vertical-align: middle;\n",
       "    }\n",
       "\n",
       "    .dataframe tbody tr th {\n",
       "        vertical-align: top;\n",
       "    }\n",
       "\n",
       "    .dataframe thead th {\n",
       "        text-align: right;\n",
       "    }\n",
       "</style>\n",
       "<table border=\"1\" class=\"dataframe\">\n",
       "  <thead>\n",
       "    <tr style=\"text-align: right;\">\n",
       "      <th></th>\n",
       "      <th>Category</th>\n",
       "      <th>Message</th>\n",
       "      <th>spam</th>\n",
       "    </tr>\n",
       "  </thead>\n",
       "  <tbody>\n",
       "    <tr>\n",
       "      <th>0</th>\n",
       "      <td>ham</td>\n",
       "      <td>Go until jurong point, crazy.. Available only ...</td>\n",
       "      <td>0</td>\n",
       "    </tr>\n",
       "    <tr>\n",
       "      <th>1</th>\n",
       "      <td>ham</td>\n",
       "      <td>Ok lar... Joking wif u oni...</td>\n",
       "      <td>0</td>\n",
       "    </tr>\n",
       "    <tr>\n",
       "      <th>2</th>\n",
       "      <td>spam</td>\n",
       "      <td>Free entry in 2 a wkly comp to win FA Cup fina...</td>\n",
       "      <td>1</td>\n",
       "    </tr>\n",
       "    <tr>\n",
       "      <th>3</th>\n",
       "      <td>ham</td>\n",
       "      <td>U dun say so early hor... U c already then say...</td>\n",
       "      <td>0</td>\n",
       "    </tr>\n",
       "    <tr>\n",
       "      <th>4</th>\n",
       "      <td>ham</td>\n",
       "      <td>Nah I don't think he goes to usf, he lives aro...</td>\n",
       "      <td>0</td>\n",
       "    </tr>\n",
       "  </tbody>\n",
       "</table>\n",
       "</div>"
      ],
      "text/plain": [
       "  Category                                            Message  spam\n",
       "0      ham  Go until jurong point, crazy.. Available only ...     0\n",
       "1      ham                      Ok lar... Joking wif u oni...     0\n",
       "2     spam  Free entry in 2 a wkly comp to win FA Cup fina...     1\n",
       "3      ham  U dun say so early hor... U c already then say...     0\n",
       "4      ham  Nah I don't think he goes to usf, he lives aro...     0"
      ]
     },
     "execution_count": 6,
     "metadata": {},
     "output_type": "execute_result"
    }
   ],
   "source": [
    "df.head()"
   ]
  },
  {
   "cell_type": "code",
   "execution_count": 7,
   "id": "6b44aa69",
   "metadata": {
    "execution": {
     "iopub.execute_input": "2025-04-20T08:16:02.338608Z",
     "iopub.status.busy": "2025-04-20T08:16:02.338255Z",
     "iopub.status.idle": "2025-04-20T08:16:02.675990Z",
     "shell.execute_reply": "2025-04-20T08:16:02.675032Z"
    },
    "papermill": {
     "duration": 0.345213,
     "end_time": "2025-04-20T08:16:02.677933",
     "exception": false,
     "start_time": "2025-04-20T08:16:02.332720",
     "status": "completed"
    },
    "tags": []
   },
   "outputs": [],
   "source": [
    "from sklearn.feature_extraction.text import CountVectorizer\n",
    "v = CountVectorizer()"
   ]
  },
  {
   "cell_type": "code",
   "execution_count": 8,
   "id": "cd184574",
   "metadata": {
    "execution": {
     "iopub.execute_input": "2025-04-20T08:16:02.688404Z",
     "iopub.status.busy": "2025-04-20T08:16:02.688041Z",
     "iopub.status.idle": "2025-04-20T08:16:02.695648Z",
     "shell.execute_reply": "2025-04-20T08:16:02.694841Z"
    },
    "papermill": {
     "duration": 0.014393,
     "end_time": "2025-04-20T08:16:02.696955",
     "exception": false,
     "start_time": "2025-04-20T08:16:02.682562",
     "status": "completed"
    },
    "tags": []
   },
   "outputs": [
    {
     "data": {
      "text/plain": [
       "0       Go until jurong point, crazy.. Available only ...\n",
       "1                           Ok lar... Joking wif u oni...\n",
       "2       Free entry in 2 a wkly comp to win FA Cup fina...\n",
       "3       U dun say so early hor... U c already then say...\n",
       "4       Nah I don't think he goes to usf, he lives aro...\n",
       "                              ...                        \n",
       "5567    This is the 2nd time we have tried 2 contact u...\n",
       "5568                 Will ü b going to esplanade fr home?\n",
       "5569    Pity, * was in mood for that. So...any other s...\n",
       "5570    The guy did some bitching but I acted like i'd...\n",
       "5571                           Rofl. Its true to its name\n",
       "Name: Message, Length: 5572, dtype: object"
      ]
     },
     "execution_count": 8,
     "metadata": {},
     "output_type": "execute_result"
    }
   ],
   "source": [
    "X = df['Message']\n",
    "X"
   ]
  },
  {
   "cell_type": "code",
   "execution_count": 9,
   "id": "6439c6ef",
   "metadata": {
    "execution": {
     "iopub.execute_input": "2025-04-20T08:16:02.707538Z",
     "iopub.status.busy": "2025-04-20T08:16:02.707007Z",
     "iopub.status.idle": "2025-04-20T08:16:02.809932Z",
     "shell.execute_reply": "2025-04-20T08:16:02.808943Z"
    },
    "papermill": {
     "duration": 0.110522,
     "end_time": "2025-04-20T08:16:02.812070",
     "exception": false,
     "start_time": "2025-04-20T08:16:02.701548",
     "status": "completed"
    },
    "tags": []
   },
   "outputs": [],
   "source": [
    "X_vectorizer = v.fit_transform(X)"
   ]
  },
  {
   "cell_type": "code",
   "execution_count": 10,
   "id": "af278b5e",
   "metadata": {
    "execution": {
     "iopub.execute_input": "2025-04-20T08:16:02.822478Z",
     "iopub.status.busy": "2025-04-20T08:16:02.822130Z",
     "iopub.status.idle": "2025-04-20T08:16:02.830618Z",
     "shell.execute_reply": "2025-04-20T08:16:02.829705Z"
    },
    "papermill": {
     "duration": 0.0155,
     "end_time": "2025-04-20T08:16:02.832150",
     "exception": false,
     "start_time": "2025-04-20T08:16:02.816650",
     "status": "completed"
    },
    "tags": []
   },
   "outputs": [
    {
     "data": {
      "text/plain": [
       "0        ham\n",
       "1        ham\n",
       "2       spam\n",
       "3        ham\n",
       "4        ham\n",
       "        ... \n",
       "5567    spam\n",
       "5568     ham\n",
       "5569     ham\n",
       "5570     ham\n",
       "5571     ham\n",
       "Name: Category, Length: 5572, dtype: object"
      ]
     },
     "execution_count": 10,
     "metadata": {},
     "output_type": "execute_result"
    }
   ],
   "source": [
    "y = df['Category']\n",
    "y"
   ]
  },
  {
   "cell_type": "code",
   "execution_count": 11,
   "id": "ab312afa",
   "metadata": {
    "execution": {
     "iopub.execute_input": "2025-04-20T08:16:02.842888Z",
     "iopub.status.busy": "2025-04-20T08:16:02.842478Z",
     "iopub.status.idle": "2025-04-20T08:16:02.962725Z",
     "shell.execute_reply": "2025-04-20T08:16:02.961802Z"
    },
    "papermill": {
     "duration": 0.127706,
     "end_time": "2025-04-20T08:16:02.964471",
     "exception": false,
     "start_time": "2025-04-20T08:16:02.836765",
     "status": "completed"
    },
    "tags": []
   },
   "outputs": [],
   "source": [
    "from sklearn.model_selection import train_test_split"
   ]
  },
  {
   "cell_type": "code",
   "execution_count": 12,
   "id": "0d0f517b",
   "metadata": {
    "execution": {
     "iopub.execute_input": "2025-04-20T08:16:02.974693Z",
     "iopub.status.busy": "2025-04-20T08:16:02.974398Z",
     "iopub.status.idle": "2025-04-20T08:16:02.983609Z",
     "shell.execute_reply": "2025-04-20T08:16:02.982633Z"
    },
    "papermill": {
     "duration": 0.016343,
     "end_time": "2025-04-20T08:16:02.985384",
     "exception": false,
     "start_time": "2025-04-20T08:16:02.969041",
     "status": "completed"
    },
    "tags": []
   },
   "outputs": [],
   "source": [
    "X_train,X_test,y_train,y_test = train_test_split(X_vectorizer,y,test_size=0.2)"
   ]
  },
  {
   "cell_type": "code",
   "execution_count": 13,
   "id": "4f48d09c",
   "metadata": {
    "execution": {
     "iopub.execute_input": "2025-04-20T08:16:02.996302Z",
     "iopub.status.busy": "2025-04-20T08:16:02.995915Z",
     "iopub.status.idle": "2025-04-20T08:16:03.012806Z",
     "shell.execute_reply": "2025-04-20T08:16:03.011580Z"
    },
    "papermill": {
     "duration": 0.024729,
     "end_time": "2025-04-20T08:16:03.015014",
     "exception": false,
     "start_time": "2025-04-20T08:16:02.990285",
     "status": "completed"
    },
    "tags": []
   },
   "outputs": [],
   "source": [
    "from sklearn.naive_bayes import MultinomialNB\n",
    "model = MultinomialNB()"
   ]
  },
  {
   "cell_type": "code",
   "execution_count": 14,
   "id": "20892ace",
   "metadata": {
    "execution": {
     "iopub.execute_input": "2025-04-20T08:16:03.025769Z",
     "iopub.status.busy": "2025-04-20T08:16:03.025382Z",
     "iopub.status.idle": "2025-04-20T08:16:03.066602Z",
     "shell.execute_reply": "2025-04-20T08:16:03.065644Z"
    },
    "papermill": {
     "duration": 0.04838,
     "end_time": "2025-04-20T08:16:03.068100",
     "exception": false,
     "start_time": "2025-04-20T08:16:03.019720",
     "status": "completed"
    },
    "tags": []
   },
   "outputs": [
    {
     "data": {
      "text/html": [
       "<style>#sk-container-id-1 {color: black;background-color: white;}#sk-container-id-1 pre{padding: 0;}#sk-container-id-1 div.sk-toggleable {background-color: white;}#sk-container-id-1 label.sk-toggleable__label {cursor: pointer;display: block;width: 100%;margin-bottom: 0;padding: 0.3em;box-sizing: border-box;text-align: center;}#sk-container-id-1 label.sk-toggleable__label-arrow:before {content: \"▸\";float: left;margin-right: 0.25em;color: #696969;}#sk-container-id-1 label.sk-toggleable__label-arrow:hover:before {color: black;}#sk-container-id-1 div.sk-estimator:hover label.sk-toggleable__label-arrow:before {color: black;}#sk-container-id-1 div.sk-toggleable__content {max-height: 0;max-width: 0;overflow: hidden;text-align: left;background-color: #f0f8ff;}#sk-container-id-1 div.sk-toggleable__content pre {margin: 0.2em;color: black;border-radius: 0.25em;background-color: #f0f8ff;}#sk-container-id-1 input.sk-toggleable__control:checked~div.sk-toggleable__content {max-height: 200px;max-width: 100%;overflow: auto;}#sk-container-id-1 input.sk-toggleable__control:checked~label.sk-toggleable__label-arrow:before {content: \"▾\";}#sk-container-id-1 div.sk-estimator input.sk-toggleable__control:checked~label.sk-toggleable__label {background-color: #d4ebff;}#sk-container-id-1 div.sk-label input.sk-toggleable__control:checked~label.sk-toggleable__label {background-color: #d4ebff;}#sk-container-id-1 input.sk-hidden--visually {border: 0;clip: rect(1px 1px 1px 1px);clip: rect(1px, 1px, 1px, 1px);height: 1px;margin: -1px;overflow: hidden;padding: 0;position: absolute;width: 1px;}#sk-container-id-1 div.sk-estimator {font-family: monospace;background-color: #f0f8ff;border: 1px dotted black;border-radius: 0.25em;box-sizing: border-box;margin-bottom: 0.5em;}#sk-container-id-1 div.sk-estimator:hover {background-color: #d4ebff;}#sk-container-id-1 div.sk-parallel-item::after {content: \"\";width: 100%;border-bottom: 1px solid gray;flex-grow: 1;}#sk-container-id-1 div.sk-label:hover label.sk-toggleable__label {background-color: #d4ebff;}#sk-container-id-1 div.sk-serial::before {content: \"\";position: absolute;border-left: 1px solid gray;box-sizing: border-box;top: 0;bottom: 0;left: 50%;z-index: 0;}#sk-container-id-1 div.sk-serial {display: flex;flex-direction: column;align-items: center;background-color: white;padding-right: 0.2em;padding-left: 0.2em;position: relative;}#sk-container-id-1 div.sk-item {position: relative;z-index: 1;}#sk-container-id-1 div.sk-parallel {display: flex;align-items: stretch;justify-content: center;background-color: white;position: relative;}#sk-container-id-1 div.sk-item::before, #sk-container-id-1 div.sk-parallel-item::before {content: \"\";position: absolute;border-left: 1px solid gray;box-sizing: border-box;top: 0;bottom: 0;left: 50%;z-index: -1;}#sk-container-id-1 div.sk-parallel-item {display: flex;flex-direction: column;z-index: 1;position: relative;background-color: white;}#sk-container-id-1 div.sk-parallel-item:first-child::after {align-self: flex-end;width: 50%;}#sk-container-id-1 div.sk-parallel-item:last-child::after {align-self: flex-start;width: 50%;}#sk-container-id-1 div.sk-parallel-item:only-child::after {width: 0;}#sk-container-id-1 div.sk-dashed-wrapped {border: 1px dashed gray;margin: 0 0.4em 0.5em 0.4em;box-sizing: border-box;padding-bottom: 0.4em;background-color: white;}#sk-container-id-1 div.sk-label label {font-family: monospace;font-weight: bold;display: inline-block;line-height: 1.2em;}#sk-container-id-1 div.sk-label-container {text-align: center;}#sk-container-id-1 div.sk-container {/* jupyter's `normalize.less` sets `[hidden] { display: none; }` but bootstrap.min.css set `[hidden] { display: none !important; }` so we also need the `!important` here to be able to override the default hidden behavior on the sphinx rendered scikit-learn.org. See: https://github.com/scikit-learn/scikit-learn/issues/21755 */display: inline-block !important;position: relative;}#sk-container-id-1 div.sk-text-repr-fallback {display: none;}</style><div id=\"sk-container-id-1\" class=\"sk-top-container\"><div class=\"sk-text-repr-fallback\"><pre>MultinomialNB()</pre><b>In a Jupyter environment, please rerun this cell to show the HTML representation or trust the notebook. <br />On GitHub, the HTML representation is unable to render, please try loading this page with nbviewer.org.</b></div><div class=\"sk-container\" hidden><div class=\"sk-item\"><div class=\"sk-estimator sk-toggleable\"><input class=\"sk-toggleable__control sk-hidden--visually\" id=\"sk-estimator-id-1\" type=\"checkbox\" checked><label for=\"sk-estimator-id-1\" class=\"sk-toggleable__label sk-toggleable__label-arrow\">MultinomialNB</label><div class=\"sk-toggleable__content\"><pre>MultinomialNB()</pre></div></div></div></div></div>"
      ],
      "text/plain": [
       "MultinomialNB()"
      ]
     },
     "execution_count": 14,
     "metadata": {},
     "output_type": "execute_result"
    }
   ],
   "source": [
    "model.fit(X_train,y_train)"
   ]
  },
  {
   "cell_type": "code",
   "execution_count": 15,
   "id": "43d8d02f",
   "metadata": {
    "execution": {
     "iopub.execute_input": "2025-04-20T08:16:03.078991Z",
     "iopub.status.busy": "2025-04-20T08:16:03.078696Z",
     "iopub.status.idle": "2025-04-20T08:16:03.084761Z",
     "shell.execute_reply": "2025-04-20T08:16:03.083952Z"
    },
    "papermill": {
     "duration": 0.013367,
     "end_time": "2025-04-20T08:16:03.086300",
     "exception": false,
     "start_time": "2025-04-20T08:16:03.072933",
     "status": "completed"
    },
    "tags": []
   },
   "outputs": [],
   "source": [
    "y_pred = model.predict(X_test)"
   ]
  },
  {
   "cell_type": "code",
   "execution_count": 16,
   "id": "40181c63",
   "metadata": {
    "execution": {
     "iopub.execute_input": "2025-04-20T08:16:03.097465Z",
     "iopub.status.busy": "2025-04-20T08:16:03.097126Z",
     "iopub.status.idle": "2025-04-20T08:16:03.102059Z",
     "shell.execute_reply": "2025-04-20T08:16:03.101054Z"
    },
    "papermill": {
     "duration": 0.012813,
     "end_time": "2025-04-20T08:16:03.103959",
     "exception": false,
     "start_time": "2025-04-20T08:16:03.091146",
     "status": "completed"
    },
    "tags": []
   },
   "outputs": [],
   "source": [
    "from sklearn.metrics import classification_report,accuracy_score,confusion_matrix"
   ]
  },
  {
   "cell_type": "code",
   "execution_count": 17,
   "id": "e963bb8d",
   "metadata": {
    "execution": {
     "iopub.execute_input": "2025-04-20T08:16:03.115800Z",
     "iopub.status.busy": "2025-04-20T08:16:03.115466Z",
     "iopub.status.idle": "2025-04-20T08:16:03.124453Z",
     "shell.execute_reply": "2025-04-20T08:16:03.123328Z"
    },
    "papermill": {
     "duration": 0.01712,
     "end_time": "2025-04-20T08:16:03.125980",
     "exception": false,
     "start_time": "2025-04-20T08:16:03.108860",
     "status": "completed"
    },
    "tags": []
   },
   "outputs": [
    {
     "name": "stdout",
     "output_type": "stream",
     "text": [
      "0.979372197309417\n"
     ]
    }
   ],
   "source": [
    "print(accuracy_score(y_test,y_pred))"
   ]
  },
  {
   "cell_type": "code",
   "execution_count": 18,
   "id": "f5909f31",
   "metadata": {
    "execution": {
     "iopub.execute_input": "2025-04-20T08:16:03.137775Z",
     "iopub.status.busy": "2025-04-20T08:16:03.137472Z",
     "iopub.status.idle": "2025-04-20T08:16:03.175103Z",
     "shell.execute_reply": "2025-04-20T08:16:03.174006Z"
    },
    "papermill": {
     "duration": 0.044952,
     "end_time": "2025-04-20T08:16:03.176717",
     "exception": false,
     "start_time": "2025-04-20T08:16:03.131765",
     "status": "completed"
    },
    "tags": []
   },
   "outputs": [
    {
     "name": "stdout",
     "output_type": "stream",
     "text": [
      "              precision    recall  f1-score   support\n",
      "\n",
      "         ham       0.99      0.99      0.99       951\n",
      "        spam       0.92      0.94      0.93       164\n",
      "\n",
      "    accuracy                           0.98      1115\n",
      "   macro avg       0.96      0.96      0.96      1115\n",
      "weighted avg       0.98      0.98      0.98      1115\n",
      "\n"
     ]
    }
   ],
   "source": [
    "print(classification_report(y_test,y_pred))"
   ]
  },
  {
   "cell_type": "code",
   "execution_count": 19,
   "id": "453d5d36",
   "metadata": {
    "execution": {
     "iopub.execute_input": "2025-04-20T08:16:03.188380Z",
     "iopub.status.busy": "2025-04-20T08:16:03.188002Z",
     "iopub.status.idle": "2025-04-20T08:16:03.199301Z",
     "shell.execute_reply": "2025-04-20T08:16:03.198339Z"
    },
    "papermill": {
     "duration": 0.018852,
     "end_time": "2025-04-20T08:16:03.201039",
     "exception": false,
     "start_time": "2025-04-20T08:16:03.182187",
     "status": "completed"
    },
    "tags": []
   },
   "outputs": [],
   "source": [
    "cm = confusion_matrix(y_test,y_pred)"
   ]
  },
  {
   "cell_type": "code",
   "execution_count": 20,
   "id": "a648d284",
   "metadata": {
    "collapsed": true,
    "execution": {
     "iopub.execute_input": "2025-04-20T08:16:03.212310Z",
     "iopub.status.busy": "2025-04-20T08:16:03.211942Z",
     "iopub.status.idle": "2025-04-20T08:16:03.490917Z",
     "shell.execute_reply": "2025-04-20T08:16:03.489956Z"
    },
    "jupyter": {
     "outputs_hidden": true
    },
    "papermill": {
     "duration": 0.286818,
     "end_time": "2025-04-20T08:16:03.492745",
     "exception": false,
     "start_time": "2025-04-20T08:16:03.205927",
     "status": "completed"
    },
    "tags": []
   },
   "outputs": [
    {
     "data": {
      "image/png": "[encoded data removed]",
      "text/plain": [
       "<Figure size 600x500 with 2 Axes>"
      ]
     },
     "metadata": {},
     "output_type": "display_data"
    }
   ],
   "source": [
    "# Confusion Matrix\n",
    "cm = confusion_matrix(y_test, y_pred)\n",
    "plt.figure(figsize=(6,5))\n",
    "sns.heatmap(cm, annot=True, fmt='d', cmap='Blues', xticklabels=['Ham', 'Spam'], yticklabels=['Ham', 'Spam'])\n",
    "plt.xlabel('Predicted')\n",
    "plt.ylabel('Actual')\n",
    "plt.title('Confusion Matrix')\n",
    "plt.show()"
   ]
  },
  {
   "cell_type": "code",
   "execution_count": 21,
   "id": "8bf7fdc0",
   "metadata": {
    "execution": {
     "iopub.execute_input": "2025-04-20T08:16:03.504874Z",
     "iopub.status.busy": "2025-04-20T08:16:03.504563Z",
     "iopub.status.idle": "2025-04-20T08:16:03.510758Z",
     "shell.execute_reply": "2025-04-20T08:16:03.509847Z"
    },
    "papermill": {
     "duration": 0.014064,
     "end_time": "2025-04-20T08:16:03.512156",
     "exception": false,
     "start_time": "2025-04-20T08:16:03.498092",
     "status": "completed"
    },
    "tags": []
   },
   "outputs": [
    {
     "name": "stdout",
     "output_type": "stream",
     "text": [
      "Prediction: Ham\n"
     ]
    }
   ],
   "source": [
    "# Test a custom message\n",
    "sample = [\"You've won a free vacation! Reply WIN to claim now.\"]\n",
    "sample_vec = v.transform(sample)\n",
    "prediction = model.predict(sample_vec)\n",
    "print(\"Prediction:\", \"Spam\" if prediction[0] == 1 else \"Ham\")"
   ]
  }
 ],
 "metadata": {
  "kaggle": {
   "accelerator": "none",
   "dataSources": [
    {
     "datasetId": 3839058,
     "sourceId": 6651650,
     "sourceType": "datasetVersion"
    }
   ],
   "dockerImageVersionId": 31012,
   "isGpuEnabled": false,
   "isInternetEnabled": false,
   "language": "python",
   "sourceType": "notebook"
  },
  "kernelspec": {
   "display_name": "Python 3",
   "language": "python",
   "name": "python3"
  },
  "language_info": {
   "codemirror_mode": {
    "name": "ipython",
    "version": 3
   },
   "file_extension": ".py",
   "mimetype": "text/x-python",
   "name": "python",
   "nbconvert_exporter": "python",
   "pygments_lexer": "ipython3",
   "version": "3.11.11"
  },
  "papermill": {
   "default_parameters": {},
   "duration": 12.887725,
   "end_time": "2025-04-20T08:16:04.239995",
   "environment_variables": {},
   "exception": null,
   "input_path": "__notebook__.ipynb",
   "output_path": "__notebook__.ipynb",
   "parameters": {},
   "start_time": "2025-04-20T08:15:51.352270",
   "version": "2.6.0"
  }
 },
 "nbformat": 4,
 "nbformat_minor": 5
}
